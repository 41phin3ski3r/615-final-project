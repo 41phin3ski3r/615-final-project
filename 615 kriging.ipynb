{
 "cells": [
  {
   "cell_type": "code",
   "execution_count": 5,
   "id": "6e02f3a7-54be-45ec-9057-bdccc3d7c6f6",
   "metadata": {},
   "outputs": [],
   "source": [
    "import geopandas as gpd\n",
    "import pandas as pd\n",
    "import contextily as cx\n",
    "import numpy as np\n",
    "from pointpats import centrography\n",
    "from shapely.geometry import Point\n",
    "import matplotlib.pyplot as plt\n",
    "from scipy import stats\n",
    "import shapely as shapely"
   ]
  },
  {
   "cell_type": "code",
   "execution_count": 1,
   "id": "4d9d5e7e-b53b-455f-bf88-2c6fde5f02a2",
   "metadata": {
    "tags": []
   },
   "outputs": [
    {
     "name": "stdout",
     "output_type": "stream",
     "text": [
      "Requirement already satisfied: rpy2 in c:\\users\\p7j5p\\miniconda3\\envs\\info615\\lib\\site-packages (3.5.1)\n",
      "Requirement already satisfied: tzlocal in c:\\users\\p7j5p\\miniconda3\\envs\\info615\\lib\\site-packages (from rpy2) (4.2)\n",
      "Requirement already satisfied: cffi>=1.10.0 in c:\\users\\p7j5p\\miniconda3\\envs\\info615\\lib\\site-packages (from rpy2) (1.15.0)\n",
      "Requirement already satisfied: pytz in c:\\users\\p7j5p\\miniconda3\\envs\\info615\\lib\\site-packages (from rpy2) (2021.3)\n",
      "Requirement already satisfied: jinja2 in c:\\users\\p7j5p\\miniconda3\\envs\\info615\\lib\\site-packages (from rpy2) (3.0.3)\n",
      "Requirement already satisfied: pycparser in c:\\users\\p7j5p\\miniconda3\\envs\\info615\\lib\\site-packages (from cffi>=1.10.0->rpy2) (2.21)\n",
      "Requirement already satisfied: MarkupSafe>=2.0 in c:\\users\\p7j5p\\miniconda3\\envs\\info615\\lib\\site-packages (from jinja2->rpy2) (2.0.1)\n",
      "Requirement already satisfied: backports.zoneinfo in c:\\users\\p7j5p\\miniconda3\\envs\\info615\\lib\\site-packages (from tzlocal->rpy2) (0.2.1)\n",
      "Requirement already satisfied: tzdata in c:\\users\\p7j5p\\miniconda3\\envs\\info615\\lib\\site-packages (from tzlocal->rpy2) (2022.1)\n",
      "Requirement already satisfied: pytz-deprecation-shim in c:\\users\\p7j5p\\miniconda3\\envs\\info615\\lib\\site-packages (from tzlocal->rpy2) (0.1.0.post0)\n",
      "Note: you may need to restart the kernel to use updated packages.\n"
     ]
    }
   ],
   "source": [
    "pip install rpy2"
   ]
  },
  {
   "cell_type": "code",
   "execution_count": 2,
   "id": "f74605c9-b701-47bb-b990-8c15bbce870e",
   "metadata": {},
   "outputs": [
    {
     "name": "stderr",
     "output_type": "stream",
     "text": [
      "Unable to determine R library path: Command '('C:\\\\Users\\\\p7j5p\\\\miniconda3\\\\envs\\\\info615\\\\lib\\\\R\\\\bin\\\\Rscript', '-e', 'cat(Sys.getenv(\"LD_LIBRARY_PATH\"))')' returned non-zero exit status 1.\n",
      "C:\\Users\\p7j5p\\miniconda3\\envs\\info615\\lib\\site-packages\\rpy2\\robjects\\packages.py:366: UserWarning: The symbol 'quartz' is not in this R namespace/package.\n",
      "  warnings.warn(\n"
     ]
    }
   ],
   "source": [
    "%load_ext rpy2.ipython"
   ]
  },
  {
   "cell_type": "code",
   "execution_count": 3,
   "id": "01f8f289-4299-4473-b3d0-1775fa9fd68e",
   "metadata": {
    "tags": []
   },
   "outputs": [
    {
     "name": "stderr",
     "output_type": "stream",
     "text": [
      "R[write to console]: Linking to GEOS 3.9.0, GDAL 3.2.1, PROJ 7.2.1\n",
      "\n"
     ]
    }
   ],
   "source": [
    "%%R\n",
    "library(stringr)\n",
    "library(plyr)\n",
    "library(readr)\n",
    "library(data.table)\n",
    "library(tidyverse)\n",
    "library(readxl)\n",
    "library(dplyr)\n",
    "library(sp)\n",
    "library(sf)\n",
    "library(gstat)"
   ]
  },
  {
   "cell_type": "code",
   "execution_count": null,
   "id": "a4d9e2e8-32c1-4503-be49-e5c9ad7956e7",
   "metadata": {},
   "outputs": [],
   "source": [
    "%%R\n",
    "url = \"ftp://ftp.ncdc.noaa.gov/pub/data/ghcn/daily/ghcnd-stations.txt\"\n",
    "\n",
    "dest = \"C:/Users/p7j5p/Documents/Paul's reports/spatial statistics/final project data/stations.csv\"\n",
    "\n",
    "download.file(url, dest)\n",
    "\n",
    "#begin by downloading the full list of GHCND stations, then renaming the columns\n",
    "\n",
    "stations <- read_table2(\"Paul's reports/spatial statistics/final project data/stations.csv\")\n",
    "\n",
    "inventory <- read_table2(\"inventory.csv\")\n",
    "\n",
    "stations$name <- str_c(stations$ST, \" \", stations$JOHNS, \" \", stations$COOLIDGE, \" \", stations$FLD)\n",
    "\n",
    "names(stations)[names(stations)==\"ACW00011604\"] <- \"GHCND\"\n",
    "\n",
    "names(stations)[names(stations)==\"ST JOHNS COOLIDGE FLD\"] <- \"name\"\n",
    "\n",
    "names(stations)[names(stations)==\"17.1167\"] <- \"Lat\"\n",
    "\n",
    "names(stations)[names(stations)==\"-61.7833\"] <- \"Long\"\n",
    "\n",
    "names(inventory)[names(inventory)==\"ACW00011604\"] <- \"GHCND\"\n",
    "names(inventory)[names(inventory)==\"17.1167\"] <- \"Lat\"\n",
    "names(inventory)[names(inventory)==\"TMAX\"] <- \"Elem\"\n",
    "names(inventory)[names(inventory)==\"-61.7833\"] <- \"Long\"\n",
    "names(inventory)[names(inventory)==\"1949\"] <- \"First\"\n",
    "names(inventory)[names(inventory)==\"1949_1\"] <- \"Last\"\n",
    "\n",
    "#Now filter down to the states for this analysis\n",
    "\n",
    "stations_states <- stations %>% filter(grepl(\"US1CO|US1ID|US1UT|US1WY\", GHCND))\n",
    "\n",
    "inventory_states <- inventory %>% filter(grepl(\"US1CO|US1ID|US1UT|US1WY\", GHCND))\n",
    "\n",
    "inventory_states1 <- inventory_states %>% filter(inventory_states$Elem == 'SNOW')\n",
    "\n",
    "station_list <- select(inventory_states1, GHCND)"
   ]
  },
  {
   "cell_type": "code",
   "execution_count": null,
   "id": "93945b8e-6cc7-4714-8f9e-77e381858a55",
   "metadata": {},
   "outputs": [],
   "source": [
    "%%R\n",
    "#This section of code originally came from http://spatialreasoning.com/wp/20170307_1244_r-reading-filtering-weather-data-from-the-global-historical-climatology-network-ghcnd\n",
    "# and was written by Rao, M & Battaile, B.  I modified it slightly for this project\n",
    "\n",
    "noaa_dir <- \"ftp://ftp.ncdc.noaa.gov/pub/data/ghcn/daily/all/\"\n",
    "noaaout <- \"C:/Users/p7j5p/Documents/Paul's reports/spatial statistics/final project data/indv files\"\n",
    "\n",
    "\n",
    "numFiles <- length(station_list$GHCND)\n",
    "dirname <- noaa_dir\n",
    "#need to have libcurl enabled due to the volume of files ~4600\n",
    "options(download.file.method=\"libcurl\")\n",
    "\n",
    "for (i in 1:numFiles) {\n",
    "  infile <- paste0(dirname, station_list$GHCND[i], \".dly\")\n",
    "  outfile <- paste0(noaaout, station_list$GHCND[i], \".csv\")\n",
    "  cols <- c( \"A11\", \"I4\", \"I2\", \"A4\",\n",
    "             rep( c( \"I5\", \"A1\", \"A1\", \"A1\"), 31) )\n",
    "  df <- read.fortran(infile, cols, na.strings=\"-9999\") # -9999 indicates missing data\n",
    "  \n",
    "  # next, fill in the column names\n",
    "  tmp <- c(\"Val\",\"xxM\",\"xxQ\",\"xxS\") # xx so we can ditch them later\n",
    "  vhdrs <- paste(   rep(tmp,31),   rep(1:31,each=4), sep=\"\")\n",
    "  hdrs <- c(\"ID\", \"year\", \"month\", \"element\", vhdrs)\n",
    "  names(df) <- hdrs\n",
    "  df <- df[df$year >= 1995 & df$year <= 2020,]\n",
    "  df_out <- dplyr::select(df, -matches(\"xx*\")) # get rid of M, Q, S \n",
    "  write.csv(df_out, outfile)\n",
    "}"
   ]
  },
  {
   "cell_type": "code",
   "execution_count": null,
   "id": "2d88ae36-245c-4526-b2e4-068541986265",
   "metadata": {},
   "outputs": [],
   "source": [
    "%%R\n"
   ]
  },
  {
   "cell_type": "code",
   "execution_count": 6,
   "id": "fe0f390a-d54f-4543-8668-4e477f4a77c7",
   "metadata": {},
   "outputs": [],
   "source": [
    "coords = gpd.read_file(r\"C:\\Users\\p7j5p\\Documents\\Paul's reports\\Data analysis\\stations_states2.csv\")\n",
    "data = gpd.read_file(r\"C:\\Users\\p7j5p\\Documents\\Paul's reports\\spatial statistics\\snow_data_transposed.csv\")"
   ]
  },
  {
   "cell_type": "markdown",
   "id": "1a2cca48-796c-4356-8da1-e8aa964be3ba",
   "metadata": {},
   "source": [
    "starting off with the masterfile of all stations for the date and area ranges"
   ]
  },
  {
   "cell_type": "code",
   "execution_count": 19,
   "id": "51af7c87-0e7a-436b-9551-2f384ebc2642",
   "metadata": {},
   "outputs": [],
   "source": [
    "df = data.merge(coords, on='ID')"
   ]
  },
  {
   "cell_type": "code",
   "execution_count": 20,
   "id": "f383cb99-c279-4245-b707-5eb8a2394778",
   "metadata": {
    "collapsed": true,
    "jupyter": {
     "outputs_hidden": true
    },
    "tags": []
   },
   "outputs": [
    {
     "data": {
      "text/html": [
       "<div>\n",
       "<style scoped>\n",
       "    .dataframe tbody tr th:only-of-type {\n",
       "        vertical-align: middle;\n",
       "    }\n",
       "\n",
       "    .dataframe tbody tr th {\n",
       "        vertical-align: top;\n",
       "    }\n",
       "\n",
       "    .dataframe thead th {\n",
       "        text-align: right;\n",
       "    }\n",
       "</style>\n",
       "<table border=\"1\" class=\"dataframe\">\n",
       "  <thead>\n",
       "    <tr style=\"text-align: right;\">\n",
       "      <th></th>\n",
       "      <th>ID</th>\n",
       "      <th>year</th>\n",
       "      <th>month</th>\n",
       "      <th>element</th>\n",
       "      <th>Date</th>\n",
       "      <th>Amt (mm)</th>\n",
       "      <th>geometry_x</th>\n",
       "      <th>Lat</th>\n",
       "      <th>Long</th>\n",
       "      <th>geometry_y</th>\n",
       "    </tr>\n",
       "  </thead>\n",
       "  <tbody>\n",
       "    <tr>\n",
       "      <th>0</th>\n",
       "      <td>US1COAD0001</td>\n",
       "      <td>2002</td>\n",
       "      <td>1</td>\n",
       "      <td>SNOW</td>\n",
       "      <td>Val1</td>\n",
       "      <td>13</td>\n",
       "      <td>None</td>\n",
       "      <td>39.946</td>\n",
       "      <td>-104.6088</td>\n",
       "      <td>None</td>\n",
       "    </tr>\n",
       "    <tr>\n",
       "      <th>1</th>\n",
       "      <td>US1COAD0001</td>\n",
       "      <td>2002</td>\n",
       "      <td>1</td>\n",
       "      <td>SNOW</td>\n",
       "      <td>Val2</td>\n",
       "      <td>NA</td>\n",
       "      <td>None</td>\n",
       "      <td>39.946</td>\n",
       "      <td>-104.6088</td>\n",
       "      <td>None</td>\n",
       "    </tr>\n",
       "    <tr>\n",
       "      <th>2</th>\n",
       "      <td>US1COAD0001</td>\n",
       "      <td>2002</td>\n",
       "      <td>1</td>\n",
       "      <td>SNOW</td>\n",
       "      <td>Val3</td>\n",
       "      <td>0</td>\n",
       "      <td>None</td>\n",
       "      <td>39.946</td>\n",
       "      <td>-104.6088</td>\n",
       "      <td>None</td>\n",
       "    </tr>\n",
       "    <tr>\n",
       "      <th>3</th>\n",
       "      <td>US1COAD0001</td>\n",
       "      <td>2002</td>\n",
       "      <td>1</td>\n",
       "      <td>SNOW</td>\n",
       "      <td>Val4</td>\n",
       "      <td>0</td>\n",
       "      <td>None</td>\n",
       "      <td>39.946</td>\n",
       "      <td>-104.6088</td>\n",
       "      <td>None</td>\n",
       "    </tr>\n",
       "    <tr>\n",
       "      <th>4</th>\n",
       "      <td>US1COAD0001</td>\n",
       "      <td>2002</td>\n",
       "      <td>1</td>\n",
       "      <td>SNOW</td>\n",
       "      <td>Val5</td>\n",
       "      <td>NA</td>\n",
       "      <td>None</td>\n",
       "      <td>39.946</td>\n",
       "      <td>-104.6088</td>\n",
       "      <td>None</td>\n",
       "    </tr>\n",
       "    <tr>\n",
       "      <th>...</th>\n",
       "      <td>...</td>\n",
       "      <td>...</td>\n",
       "      <td>...</td>\n",
       "      <td>...</td>\n",
       "      <td>...</td>\n",
       "      <td>...</td>\n",
       "      <td>...</td>\n",
       "      <td>...</td>\n",
       "      <td>...</td>\n",
       "      <td>...</td>\n",
       "    </tr>\n",
       "    <tr>\n",
       "      <th>2507058</th>\n",
       "      <td>US1WYWS0030</td>\n",
       "      <td>2020</td>\n",
       "      <td>4</td>\n",
       "      <td>SNOW</td>\n",
       "      <td>Val27</td>\n",
       "      <td>NA</td>\n",
       "      <td>None</td>\n",
       "      <td>44.1263</td>\n",
       "      <td>-104.3947</td>\n",
       "      <td>None</td>\n",
       "    </tr>\n",
       "    <tr>\n",
       "      <th>2507059</th>\n",
       "      <td>US1WYWS0030</td>\n",
       "      <td>2020</td>\n",
       "      <td>4</td>\n",
       "      <td>SNOW</td>\n",
       "      <td>Val28</td>\n",
       "      <td>NA</td>\n",
       "      <td>None</td>\n",
       "      <td>44.1263</td>\n",
       "      <td>-104.3947</td>\n",
       "      <td>None</td>\n",
       "    </tr>\n",
       "    <tr>\n",
       "      <th>2507060</th>\n",
       "      <td>US1WYWS0030</td>\n",
       "      <td>2020</td>\n",
       "      <td>4</td>\n",
       "      <td>SNOW</td>\n",
       "      <td>Val29</td>\n",
       "      <td>NA</td>\n",
       "      <td>None</td>\n",
       "      <td>44.1263</td>\n",
       "      <td>-104.3947</td>\n",
       "      <td>None</td>\n",
       "    </tr>\n",
       "    <tr>\n",
       "      <th>2507061</th>\n",
       "      <td>US1WYWS0030</td>\n",
       "      <td>2020</td>\n",
       "      <td>4</td>\n",
       "      <td>SNOW</td>\n",
       "      <td>Val30</td>\n",
       "      <td>NA</td>\n",
       "      <td>None</td>\n",
       "      <td>44.1263</td>\n",
       "      <td>-104.3947</td>\n",
       "      <td>None</td>\n",
       "    </tr>\n",
       "    <tr>\n",
       "      <th>2507062</th>\n",
       "      <td>US1WYWS0030</td>\n",
       "      <td>2020</td>\n",
       "      <td>4</td>\n",
       "      <td>SNOW</td>\n",
       "      <td>Val31</td>\n",
       "      <td>NA</td>\n",
       "      <td>None</td>\n",
       "      <td>44.1263</td>\n",
       "      <td>-104.3947</td>\n",
       "      <td>None</td>\n",
       "    </tr>\n",
       "  </tbody>\n",
       "</table>\n",
       "<p>2507063 rows × 10 columns</p>\n",
       "</div>"
      ],
      "text/plain": [
       "                  ID  year month element   Date Amt (mm) geometry_x      Lat  \\\n",
       "0        US1COAD0001  2002     1    SNOW   Val1       13       None   39.946   \n",
       "1        US1COAD0001  2002     1    SNOW   Val2       NA       None   39.946   \n",
       "2        US1COAD0001  2002     1    SNOW   Val3        0       None   39.946   \n",
       "3        US1COAD0001  2002     1    SNOW   Val4        0       None   39.946   \n",
       "4        US1COAD0001  2002     1    SNOW   Val5       NA       None   39.946   \n",
       "...              ...   ...   ...     ...    ...      ...        ...      ...   \n",
       "2507058  US1WYWS0030  2020     4    SNOW  Val27       NA       None  44.1263   \n",
       "2507059  US1WYWS0030  2020     4    SNOW  Val28       NA       None  44.1263   \n",
       "2507060  US1WYWS0030  2020     4    SNOW  Val29       NA       None  44.1263   \n",
       "2507061  US1WYWS0030  2020     4    SNOW  Val30       NA       None  44.1263   \n",
       "2507062  US1WYWS0030  2020     4    SNOW  Val31       NA       None  44.1263   \n",
       "\n",
       "              Long geometry_y  \n",
       "0        -104.6088       None  \n",
       "1        -104.6088       None  \n",
       "2        -104.6088       None  \n",
       "3        -104.6088       None  \n",
       "4        -104.6088       None  \n",
       "...            ...        ...  \n",
       "2507058  -104.3947       None  \n",
       "2507059  -104.3947       None  \n",
       "2507060  -104.3947       None  \n",
       "2507061  -104.3947       None  \n",
       "2507062  -104.3947       None  \n",
       "\n",
       "[2507063 rows x 10 columns]"
      ]
     },
     "execution_count": 20,
     "metadata": {},
     "output_type": "execute_result"
    }
   ],
   "source": [
    "df"
   ]
  },
  {
   "cell_type": "code",
   "execution_count": 21,
   "id": "e4405be0-ca3d-4f2e-98e6-41687c5ad157",
   "metadata": {},
   "outputs": [],
   "source": [
    "df = df[['ID', 'year', 'month', 'element', 'Date', 'Amt (mm)', 'Lat', 'Long']]"
   ]
  },
  {
   "cell_type": "code",
   "execution_count": 22,
   "id": "eddf904a-a5cf-417e-81d4-893670ad3ecc",
   "metadata": {},
   "outputs": [
    {
     "data": {
      "text/html": [
       "<div>\n",
       "<style scoped>\n",
       "    .dataframe tbody tr th:only-of-type {\n",
       "        vertical-align: middle;\n",
       "    }\n",
       "\n",
       "    .dataframe tbody tr th {\n",
       "        vertical-align: top;\n",
       "    }\n",
       "\n",
       "    .dataframe thead th {\n",
       "        text-align: right;\n",
       "    }\n",
       "</style>\n",
       "<table border=\"1\" class=\"dataframe\">\n",
       "  <thead>\n",
       "    <tr style=\"text-align: right;\">\n",
       "      <th></th>\n",
       "      <th>ID</th>\n",
       "      <th>year</th>\n",
       "      <th>month</th>\n",
       "      <th>element</th>\n",
       "      <th>Date</th>\n",
       "      <th>Amt (mm)</th>\n",
       "      <th>Lat</th>\n",
       "      <th>Long</th>\n",
       "    </tr>\n",
       "  </thead>\n",
       "  <tbody>\n",
       "    <tr>\n",
       "      <th>0</th>\n",
       "      <td>US1COAD0001</td>\n",
       "      <td>2002</td>\n",
       "      <td>1</td>\n",
       "      <td>SNOW</td>\n",
       "      <td>Val1</td>\n",
       "      <td>13</td>\n",
       "      <td>39.946</td>\n",
       "      <td>-104.6088</td>\n",
       "    </tr>\n",
       "    <tr>\n",
       "      <th>1</th>\n",
       "      <td>US1COAD0001</td>\n",
       "      <td>2002</td>\n",
       "      <td>1</td>\n",
       "      <td>SNOW</td>\n",
       "      <td>Val2</td>\n",
       "      <td>NA</td>\n",
       "      <td>39.946</td>\n",
       "      <td>-104.6088</td>\n",
       "    </tr>\n",
       "    <tr>\n",
       "      <th>2</th>\n",
       "      <td>US1COAD0001</td>\n",
       "      <td>2002</td>\n",
       "      <td>1</td>\n",
       "      <td>SNOW</td>\n",
       "      <td>Val3</td>\n",
       "      <td>0</td>\n",
       "      <td>39.946</td>\n",
       "      <td>-104.6088</td>\n",
       "    </tr>\n",
       "    <tr>\n",
       "      <th>3</th>\n",
       "      <td>US1COAD0001</td>\n",
       "      <td>2002</td>\n",
       "      <td>1</td>\n",
       "      <td>SNOW</td>\n",
       "      <td>Val4</td>\n",
       "      <td>0</td>\n",
       "      <td>39.946</td>\n",
       "      <td>-104.6088</td>\n",
       "    </tr>\n",
       "    <tr>\n",
       "      <th>4</th>\n",
       "      <td>US1COAD0001</td>\n",
       "      <td>2002</td>\n",
       "      <td>1</td>\n",
       "      <td>SNOW</td>\n",
       "      <td>Val5</td>\n",
       "      <td>NA</td>\n",
       "      <td>39.946</td>\n",
       "      <td>-104.6088</td>\n",
       "    </tr>\n",
       "    <tr>\n",
       "      <th>...</th>\n",
       "      <td>...</td>\n",
       "      <td>...</td>\n",
       "      <td>...</td>\n",
       "      <td>...</td>\n",
       "      <td>...</td>\n",
       "      <td>...</td>\n",
       "      <td>...</td>\n",
       "      <td>...</td>\n",
       "    </tr>\n",
       "    <tr>\n",
       "      <th>2507058</th>\n",
       "      <td>US1WYWS0030</td>\n",
       "      <td>2020</td>\n",
       "      <td>4</td>\n",
       "      <td>SNOW</td>\n",
       "      <td>Val27</td>\n",
       "      <td>NA</td>\n",
       "      <td>44.1263</td>\n",
       "      <td>-104.3947</td>\n",
       "    </tr>\n",
       "    <tr>\n",
       "      <th>2507059</th>\n",
       "      <td>US1WYWS0030</td>\n",
       "      <td>2020</td>\n",
       "      <td>4</td>\n",
       "      <td>SNOW</td>\n",
       "      <td>Val28</td>\n",
       "      <td>NA</td>\n",
       "      <td>44.1263</td>\n",
       "      <td>-104.3947</td>\n",
       "    </tr>\n",
       "    <tr>\n",
       "      <th>2507060</th>\n",
       "      <td>US1WYWS0030</td>\n",
       "      <td>2020</td>\n",
       "      <td>4</td>\n",
       "      <td>SNOW</td>\n",
       "      <td>Val29</td>\n",
       "      <td>NA</td>\n",
       "      <td>44.1263</td>\n",
       "      <td>-104.3947</td>\n",
       "    </tr>\n",
       "    <tr>\n",
       "      <th>2507061</th>\n",
       "      <td>US1WYWS0030</td>\n",
       "      <td>2020</td>\n",
       "      <td>4</td>\n",
       "      <td>SNOW</td>\n",
       "      <td>Val30</td>\n",
       "      <td>NA</td>\n",
       "      <td>44.1263</td>\n",
       "      <td>-104.3947</td>\n",
       "    </tr>\n",
       "    <tr>\n",
       "      <th>2507062</th>\n",
       "      <td>US1WYWS0030</td>\n",
       "      <td>2020</td>\n",
       "      <td>4</td>\n",
       "      <td>SNOW</td>\n",
       "      <td>Val31</td>\n",
       "      <td>NA</td>\n",
       "      <td>44.1263</td>\n",
       "      <td>-104.3947</td>\n",
       "    </tr>\n",
       "  </tbody>\n",
       "</table>\n",
       "<p>2507063 rows × 8 columns</p>\n",
       "</div>"
      ],
      "text/plain": [
       "                  ID  year month element   Date Amt (mm)      Lat       Long\n",
       "0        US1COAD0001  2002     1    SNOW   Val1       13   39.946  -104.6088\n",
       "1        US1COAD0001  2002     1    SNOW   Val2       NA   39.946  -104.6088\n",
       "2        US1COAD0001  2002     1    SNOW   Val3        0   39.946  -104.6088\n",
       "3        US1COAD0001  2002     1    SNOW   Val4        0   39.946  -104.6088\n",
       "4        US1COAD0001  2002     1    SNOW   Val5       NA   39.946  -104.6088\n",
       "...              ...   ...   ...     ...    ...      ...      ...        ...\n",
       "2507058  US1WYWS0030  2020     4    SNOW  Val27       NA  44.1263  -104.3947\n",
       "2507059  US1WYWS0030  2020     4    SNOW  Val28       NA  44.1263  -104.3947\n",
       "2507060  US1WYWS0030  2020     4    SNOW  Val29       NA  44.1263  -104.3947\n",
       "2507061  US1WYWS0030  2020     4    SNOW  Val30       NA  44.1263  -104.3947\n",
       "2507062  US1WYWS0030  2020     4    SNOW  Val31       NA  44.1263  -104.3947\n",
       "\n",
       "[2507063 rows x 8 columns]"
      ]
     },
     "execution_count": 22,
     "metadata": {},
     "output_type": "execute_result"
    }
   ],
   "source": [
    "df"
   ]
  },
  {
   "cell_type": "code",
   "execution_count": 25,
   "id": "4fc915c7-73a3-4f0a-819b-5a6159871b5d",
   "metadata": {},
   "outputs": [],
   "source": [
    "geom = gpd.points_from_xy(df['Long'], df['Lat'])"
   ]
  },
  {
   "cell_type": "code",
   "execution_count": 26,
   "id": "aeba87c2-cd89-4305-be37-3e4c5a59cc89",
   "metadata": {},
   "outputs": [],
   "source": [
    "gdf = gpd.GeoDataFrame(df, geometry=geom)"
   ]
  },
  {
   "cell_type": "code",
   "execution_count": 28,
   "id": "cdf062db-badf-4a2d-8799-0628935e01da",
   "metadata": {},
   "outputs": [
    {
     "data": {
      "text/html": [
       "<div>\n",
       "<style scoped>\n",
       "    .dataframe tbody tr th:only-of-type {\n",
       "        vertical-align: middle;\n",
       "    }\n",
       "\n",
       "    .dataframe tbody tr th {\n",
       "        vertical-align: top;\n",
       "    }\n",
       "\n",
       "    .dataframe thead th {\n",
       "        text-align: right;\n",
       "    }\n",
       "</style>\n",
       "<table border=\"1\" class=\"dataframe\">\n",
       "  <thead>\n",
       "    <tr style=\"text-align: right;\">\n",
       "      <th></th>\n",
       "      <th>ID</th>\n",
       "      <th>year</th>\n",
       "      <th>month</th>\n",
       "      <th>element</th>\n",
       "      <th>Date</th>\n",
       "      <th>Amt (mm)</th>\n",
       "      <th>Lat</th>\n",
       "      <th>Long</th>\n",
       "      <th>geometry</th>\n",
       "    </tr>\n",
       "  </thead>\n",
       "  <tbody>\n",
       "    <tr>\n",
       "      <th>0</th>\n",
       "      <td>US1COAD0001</td>\n",
       "      <td>2002</td>\n",
       "      <td>1</td>\n",
       "      <td>SNOW</td>\n",
       "      <td>Val1</td>\n",
       "      <td>13</td>\n",
       "      <td>39.946</td>\n",
       "      <td>-104.6088</td>\n",
       "      <td>POINT (-104.60880 39.94600)</td>\n",
       "    </tr>\n",
       "    <tr>\n",
       "      <th>1</th>\n",
       "      <td>US1COAD0001</td>\n",
       "      <td>2002</td>\n",
       "      <td>1</td>\n",
       "      <td>SNOW</td>\n",
       "      <td>Val2</td>\n",
       "      <td>NA</td>\n",
       "      <td>39.946</td>\n",
       "      <td>-104.6088</td>\n",
       "      <td>POINT (-104.60880 39.94600)</td>\n",
       "    </tr>\n",
       "    <tr>\n",
       "      <th>2</th>\n",
       "      <td>US1COAD0001</td>\n",
       "      <td>2002</td>\n",
       "      <td>1</td>\n",
       "      <td>SNOW</td>\n",
       "      <td>Val3</td>\n",
       "      <td>0</td>\n",
       "      <td>39.946</td>\n",
       "      <td>-104.6088</td>\n",
       "      <td>POINT (-104.60880 39.94600)</td>\n",
       "    </tr>\n",
       "    <tr>\n",
       "      <th>3</th>\n",
       "      <td>US1COAD0001</td>\n",
       "      <td>2002</td>\n",
       "      <td>1</td>\n",
       "      <td>SNOW</td>\n",
       "      <td>Val4</td>\n",
       "      <td>0</td>\n",
       "      <td>39.946</td>\n",
       "      <td>-104.6088</td>\n",
       "      <td>POINT (-104.60880 39.94600)</td>\n",
       "    </tr>\n",
       "    <tr>\n",
       "      <th>4</th>\n",
       "      <td>US1COAD0001</td>\n",
       "      <td>2002</td>\n",
       "      <td>1</td>\n",
       "      <td>SNOW</td>\n",
       "      <td>Val5</td>\n",
       "      <td>NA</td>\n",
       "      <td>39.946</td>\n",
       "      <td>-104.6088</td>\n",
       "      <td>POINT (-104.60880 39.94600)</td>\n",
       "    </tr>\n",
       "    <tr>\n",
       "      <th>...</th>\n",
       "      <td>...</td>\n",
       "      <td>...</td>\n",
       "      <td>...</td>\n",
       "      <td>...</td>\n",
       "      <td>...</td>\n",
       "      <td>...</td>\n",
       "      <td>...</td>\n",
       "      <td>...</td>\n",
       "      <td>...</td>\n",
       "    </tr>\n",
       "    <tr>\n",
       "      <th>2507058</th>\n",
       "      <td>US1WYWS0030</td>\n",
       "      <td>2020</td>\n",
       "      <td>4</td>\n",
       "      <td>SNOW</td>\n",
       "      <td>Val27</td>\n",
       "      <td>NA</td>\n",
       "      <td>44.1263</td>\n",
       "      <td>-104.3947</td>\n",
       "      <td>POINT (-104.39470 44.12630)</td>\n",
       "    </tr>\n",
       "    <tr>\n",
       "      <th>2507059</th>\n",
       "      <td>US1WYWS0030</td>\n",
       "      <td>2020</td>\n",
       "      <td>4</td>\n",
       "      <td>SNOW</td>\n",
       "      <td>Val28</td>\n",
       "      <td>NA</td>\n",
       "      <td>44.1263</td>\n",
       "      <td>-104.3947</td>\n",
       "      <td>POINT (-104.39470 44.12630)</td>\n",
       "    </tr>\n",
       "    <tr>\n",
       "      <th>2507060</th>\n",
       "      <td>US1WYWS0030</td>\n",
       "      <td>2020</td>\n",
       "      <td>4</td>\n",
       "      <td>SNOW</td>\n",
       "      <td>Val29</td>\n",
       "      <td>NA</td>\n",
       "      <td>44.1263</td>\n",
       "      <td>-104.3947</td>\n",
       "      <td>POINT (-104.39470 44.12630)</td>\n",
       "    </tr>\n",
       "    <tr>\n",
       "      <th>2507061</th>\n",
       "      <td>US1WYWS0030</td>\n",
       "      <td>2020</td>\n",
       "      <td>4</td>\n",
       "      <td>SNOW</td>\n",
       "      <td>Val30</td>\n",
       "      <td>NA</td>\n",
       "      <td>44.1263</td>\n",
       "      <td>-104.3947</td>\n",
       "      <td>POINT (-104.39470 44.12630)</td>\n",
       "    </tr>\n",
       "    <tr>\n",
       "      <th>2507062</th>\n",
       "      <td>US1WYWS0030</td>\n",
       "      <td>2020</td>\n",
       "      <td>4</td>\n",
       "      <td>SNOW</td>\n",
       "      <td>Val31</td>\n",
       "      <td>NA</td>\n",
       "      <td>44.1263</td>\n",
       "      <td>-104.3947</td>\n",
       "      <td>POINT (-104.39470 44.12630)</td>\n",
       "    </tr>\n",
       "  </tbody>\n",
       "</table>\n",
       "<p>2507063 rows × 9 columns</p>\n",
       "</div>"
      ],
      "text/plain": [
       "                  ID  year month element   Date Amt (mm)      Lat       Long  \\\n",
       "0        US1COAD0001  2002     1    SNOW   Val1       13   39.946  -104.6088   \n",
       "1        US1COAD0001  2002     1    SNOW   Val2       NA   39.946  -104.6088   \n",
       "2        US1COAD0001  2002     1    SNOW   Val3        0   39.946  -104.6088   \n",
       "3        US1COAD0001  2002     1    SNOW   Val4        0   39.946  -104.6088   \n",
       "4        US1COAD0001  2002     1    SNOW   Val5       NA   39.946  -104.6088   \n",
       "...              ...   ...   ...     ...    ...      ...      ...        ...   \n",
       "2507058  US1WYWS0030  2020     4    SNOW  Val27       NA  44.1263  -104.3947   \n",
       "2507059  US1WYWS0030  2020     4    SNOW  Val28       NA  44.1263  -104.3947   \n",
       "2507060  US1WYWS0030  2020     4    SNOW  Val29       NA  44.1263  -104.3947   \n",
       "2507061  US1WYWS0030  2020     4    SNOW  Val30       NA  44.1263  -104.3947   \n",
       "2507062  US1WYWS0030  2020     4    SNOW  Val31       NA  44.1263  -104.3947   \n",
       "\n",
       "                            geometry  \n",
       "0        POINT (-104.60880 39.94600)  \n",
       "1        POINT (-104.60880 39.94600)  \n",
       "2        POINT (-104.60880 39.94600)  \n",
       "3        POINT (-104.60880 39.94600)  \n",
       "4        POINT (-104.60880 39.94600)  \n",
       "...                              ...  \n",
       "2507058  POINT (-104.39470 44.12630)  \n",
       "2507059  POINT (-104.39470 44.12630)  \n",
       "2507060  POINT (-104.39470 44.12630)  \n",
       "2507061  POINT (-104.39470 44.12630)  \n",
       "2507062  POINT (-104.39470 44.12630)  \n",
       "\n",
       "[2507063 rows x 9 columns]"
      ]
     },
     "execution_count": 28,
     "metadata": {},
     "output_type": "execute_result"
    }
   ],
   "source": [
    "gdf"
   ]
  },
  {
   "cell_type": "code",
   "execution_count": 32,
   "id": "4b0f3434-82f6-43c4-930e-224c4c094c42",
   "metadata": {},
   "outputs": [],
   "source": [
    "gdf.crs = 4326"
   ]
  },
  {
   "cell_type": "code",
   "execution_count": 33,
   "id": "256cb62f-1aee-40b1-80e2-7963232f1cc5",
   "metadata": {},
   "outputs": [
    {
     "name": "stdout",
     "output_type": "stream",
     "text": [
      "epsg:4326\n"
     ]
    }
   ],
   "source": [
    "print(gdf.crs)"
   ]
  },
  {
   "cell_type": "code",
   "execution_count": 34,
   "id": "2a90a627-d4d2-4d0b-a18d-21fd14b930ce",
   "metadata": {},
   "outputs": [],
   "source": [
    "gdf = gdf.to_crs(\"EPSG:6933\")"
   ]
  },
  {
   "cell_type": "code",
   "execution_count": 38,
   "id": "29d3db84-98d9-4c0f-89d8-ce2da1bf493f",
   "metadata": {},
   "outputs": [
    {
     "name": "stderr",
     "output_type": "stream",
     "text": [
      "C:\\Users\\p7j5p\\miniconda3\\envs\\info615\\lib\\site-packages\\geopandas\\io\\file.py:362: FutureWarning: pandas.Int64Index is deprecated and will be removed from pandas in a future version. Use pandas.Index with the appropriate dtype instead.\n",
      "  pd.Int64Index,\n"
     ]
    }
   ],
   "source": [
    "gdf.to_file(r\"C:\\Users\\p7j5p\\Documents\\Paul's reports\\spatial statistics\\indv files\\stations.geojson\", driver='GeoJSON')"
   ]
  },
  {
   "cell_type": "code",
   "execution_count": 30,
   "id": "77e6e743-1d23-493e-99b3-d1cd87ce9f36",
   "metadata": {},
   "outputs": [],
   "source": [
    "#I had to restart my kernal so I needed to reload the data here\n",
    "gdf2 = gpd.read_file(r\"C:\\Users\\p7j5p\\Documents\\Paul's reports\\spatial statistics\\indv files\\stations.geojson\")"
   ]
  },
  {
   "cell_type": "code",
   "execution_count": 47,
   "id": "8ddc22d2-8a57-4e9d-90ba-b419dba738e9",
   "metadata": {},
   "outputs": [],
   "source": [
    "gdf3 = gdf2"
   ]
  },
  {
   "cell_type": "code",
   "execution_count": 51,
   "id": "c80fc393-d11b-4a91-87c3-85a35e735e1e",
   "metadata": {},
   "outputs": [],
   "source": [
    "gdf3 = gdf3.loc[(gdf3['Amt (mm)'] > 0)]"
   ]
  },
  {
   "cell_type": "code",
   "execution_count": 52,
   "id": "35907a7a-458e-49d1-8984-181202b024d5",
   "metadata": {},
   "outputs": [
    {
     "data": {
      "text/html": [
       "<div>\n",
       "<style scoped>\n",
       "    .dataframe tbody tr th:only-of-type {\n",
       "        vertical-align: middle;\n",
       "    }\n",
       "\n",
       "    .dataframe tbody tr th {\n",
       "        vertical-align: top;\n",
       "    }\n",
       "\n",
       "    .dataframe thead th {\n",
       "        text-align: right;\n",
       "    }\n",
       "</style>\n",
       "<table border=\"1\" class=\"dataframe\">\n",
       "  <thead>\n",
       "    <tr style=\"text-align: right;\">\n",
       "      <th></th>\n",
       "      <th>ID</th>\n",
       "      <th>year</th>\n",
       "      <th>month</th>\n",
       "      <th>element</th>\n",
       "      <th>Date</th>\n",
       "      <th>Amt (mm)</th>\n",
       "      <th>Lat</th>\n",
       "      <th>Long</th>\n",
       "      <th>geometry</th>\n",
       "    </tr>\n",
       "  </thead>\n",
       "  <tbody>\n",
       "    <tr>\n",
       "      <th>0</th>\n",
       "      <td>US1COAD0001</td>\n",
       "      <td>2002</td>\n",
       "      <td>1</td>\n",
       "      <td>SNOW</td>\n",
       "      <td>Val1</td>\n",
       "      <td>13.0</td>\n",
       "      <td>39.946</td>\n",
       "      <td>-104.6088</td>\n",
       "      <td>POINT (-10093313.994 4701775.544)</td>\n",
       "    </tr>\n",
       "    <tr>\n",
       "      <th>9</th>\n",
       "      <td>US1COAD0001</td>\n",
       "      <td>2002</td>\n",
       "      <td>1</td>\n",
       "      <td>SNOW</td>\n",
       "      <td>Val10</td>\n",
       "      <td>104.0</td>\n",
       "      <td>39.946</td>\n",
       "      <td>-104.6088</td>\n",
       "      <td>POINT (-10093313.994 4701775.544)</td>\n",
       "    </tr>\n",
       "    <tr>\n",
       "      <th>55</th>\n",
       "      <td>US1COAD0001</td>\n",
       "      <td>2002</td>\n",
       "      <td>2</td>\n",
       "      <td>SNOW</td>\n",
       "      <td>Val25</td>\n",
       "      <td>38.0</td>\n",
       "      <td>39.946</td>\n",
       "      <td>-104.6088</td>\n",
       "      <td>POINT (-10093313.994 4701775.544)</td>\n",
       "    </tr>\n",
       "    <tr>\n",
       "      <th>56</th>\n",
       "      <td>US1COAD0001</td>\n",
       "      <td>2002</td>\n",
       "      <td>2</td>\n",
       "      <td>SNOW</td>\n",
       "      <td>Val26</td>\n",
       "      <td>13.0</td>\n",
       "      <td>39.946</td>\n",
       "      <td>-104.6088</td>\n",
       "      <td>POINT (-10093313.994 4701775.544)</td>\n",
       "    </tr>\n",
       "    <tr>\n",
       "      <th>62</th>\n",
       "      <td>US1COAD0001</td>\n",
       "      <td>2002</td>\n",
       "      <td>3</td>\n",
       "      <td>SNOW</td>\n",
       "      <td>Val1</td>\n",
       "      <td>89.0</td>\n",
       "      <td>39.946</td>\n",
       "      <td>-104.6088</td>\n",
       "      <td>POINT (-10093313.994 4701775.544)</td>\n",
       "    </tr>\n",
       "    <tr>\n",
       "      <th>...</th>\n",
       "      <td>...</td>\n",
       "      <td>...</td>\n",
       "      <td>...</td>\n",
       "      <td>...</td>\n",
       "      <td>...</td>\n",
       "      <td>...</td>\n",
       "      <td>...</td>\n",
       "      <td>...</td>\n",
       "      <td>...</td>\n",
       "    </tr>\n",
       "    <tr>\n",
       "      <th>2506966</th>\n",
       "      <td>US1WYWS0029</td>\n",
       "      <td>2020</td>\n",
       "      <td>3</td>\n",
       "      <td>SNOW</td>\n",
       "      <td>Val28</td>\n",
       "      <td>13.0</td>\n",
       "      <td>43.7019</td>\n",
       "      <td>-104.6947</td>\n",
       "      <td>POINT (-10101602.165 5060908.463)</td>\n",
       "    </tr>\n",
       "    <tr>\n",
       "      <th>2506971</th>\n",
       "      <td>US1WYWS0029</td>\n",
       "      <td>2020</td>\n",
       "      <td>4</td>\n",
       "      <td>SNOW</td>\n",
       "      <td>Val2</td>\n",
       "      <td>64.0</td>\n",
       "      <td>43.7019</td>\n",
       "      <td>-104.6947</td>\n",
       "      <td>POINT (-10101602.165 5060908.463)</td>\n",
       "    </tr>\n",
       "    <tr>\n",
       "      <th>2506981</th>\n",
       "      <td>US1WYWS0029</td>\n",
       "      <td>2020</td>\n",
       "      <td>4</td>\n",
       "      <td>SNOW</td>\n",
       "      <td>Val12</td>\n",
       "      <td>64.0</td>\n",
       "      <td>43.7019</td>\n",
       "      <td>-104.6947</td>\n",
       "      <td>POINT (-10101602.165 5060908.463)</td>\n",
       "    </tr>\n",
       "    <tr>\n",
       "      <th>2507014</th>\n",
       "      <td>US1WYWS0030</td>\n",
       "      <td>2018</td>\n",
       "      <td>1</td>\n",
       "      <td>SNOW</td>\n",
       "      <td>Val14</td>\n",
       "      <td>71.0</td>\n",
       "      <td>44.1263</td>\n",
       "      <td>-104.3947</td>\n",
       "      <td>POINT (-10072656.281 5100163.709)</td>\n",
       "    </tr>\n",
       "    <tr>\n",
       "      <th>2507033</th>\n",
       "      <td>US1WYWS0030</td>\n",
       "      <td>2020</td>\n",
       "      <td>4</td>\n",
       "      <td>SNOW</td>\n",
       "      <td>Val2</td>\n",
       "      <td>305.0</td>\n",
       "      <td>44.1263</td>\n",
       "      <td>-104.3947</td>\n",
       "      <td>POINT (-10072656.281 5100163.709)</td>\n",
       "    </tr>\n",
       "  </tbody>\n",
       "</table>\n",
       "<p>267826 rows × 9 columns</p>\n",
       "</div>"
      ],
      "text/plain": [
       "                  ID  year month element   Date  Amt (mm)      Lat       Long  \\\n",
       "0        US1COAD0001  2002     1    SNOW   Val1      13.0   39.946  -104.6088   \n",
       "9        US1COAD0001  2002     1    SNOW  Val10     104.0   39.946  -104.6088   \n",
       "55       US1COAD0001  2002     2    SNOW  Val25      38.0   39.946  -104.6088   \n",
       "56       US1COAD0001  2002     2    SNOW  Val26      13.0   39.946  -104.6088   \n",
       "62       US1COAD0001  2002     3    SNOW   Val1      89.0   39.946  -104.6088   \n",
       "...              ...   ...   ...     ...    ...       ...      ...        ...   \n",
       "2506966  US1WYWS0029  2020     3    SNOW  Val28      13.0  43.7019  -104.6947   \n",
       "2506971  US1WYWS0029  2020     4    SNOW   Val2      64.0  43.7019  -104.6947   \n",
       "2506981  US1WYWS0029  2020     4    SNOW  Val12      64.0  43.7019  -104.6947   \n",
       "2507014  US1WYWS0030  2018     1    SNOW  Val14      71.0  44.1263  -104.3947   \n",
       "2507033  US1WYWS0030  2020     4    SNOW   Val2     305.0  44.1263  -104.3947   \n",
       "\n",
       "                                  geometry  \n",
       "0        POINT (-10093313.994 4701775.544)  \n",
       "9        POINT (-10093313.994 4701775.544)  \n",
       "55       POINT (-10093313.994 4701775.544)  \n",
       "56       POINT (-10093313.994 4701775.544)  \n",
       "62       POINT (-10093313.994 4701775.544)  \n",
       "...                                    ...  \n",
       "2506966  POINT (-10101602.165 5060908.463)  \n",
       "2506971  POINT (-10101602.165 5060908.463)  \n",
       "2506981  POINT (-10101602.165 5060908.463)  \n",
       "2507014  POINT (-10072656.281 5100163.709)  \n",
       "2507033  POINT (-10072656.281 5100163.709)  \n",
       "\n",
       "[267826 rows x 9 columns]"
      ]
     },
     "execution_count": 52,
     "metadata": {},
     "output_type": "execute_result"
    }
   ],
   "source": [
    "gdf3"
   ]
  },
  {
   "cell_type": "code",
   "execution_count": 53,
   "id": "730aeaba-2c80-496d-b1ee-a6df254bcb02",
   "metadata": {},
   "outputs": [
    {
     "name": "stderr",
     "output_type": "stream",
     "text": [
      "C:\\Users\\p7j5p\\miniconda3\\envs\\info615\\lib\\site-packages\\geopandas\\io\\file.py:362: FutureWarning: pandas.Int64Index is deprecated and will be removed from pandas in a future version. Use pandas.Index with the appropriate dtype instead.\n",
      "  pd.Int64Index,\n"
     ]
    }
   ],
   "source": [
    "gdf3.to_file(r\"C:\\Users\\p7j5p\\Documents\\Paul's reports\\spatial statistics\\indv files\\stations_full.geojson\", driver='GeoJSON')"
   ]
  },
  {
   "cell_type": "code",
   "execution_count": 34,
   "id": "b616a463-b144-4580-9506-6bd6d84e7c58",
   "metadata": {},
   "outputs": [],
   "source": [
    "gdf2 = gdf2.dropna(subset=['Amt (mm)'])"
   ]
  },
  {
   "cell_type": "code",
   "execution_count": 39,
   "id": "c4a6475f-00e6-4bf6-99eb-ab4deaab55be",
   "metadata": {},
   "outputs": [
    {
     "ename": "TypeError",
     "evalue": "'>' not supported between instances of 'str' and 'int'",
     "output_type": "error",
     "traceback": [
      "\u001b[1;31m---------------------------------------------------------------------------\u001b[0m",
      "\u001b[1;31mTypeError\u001b[0m                                 Traceback (most recent call last)",
      "Input \u001b[1;32mIn [39]\u001b[0m, in \u001b[0;36m<module>\u001b[1;34m\u001b[0m\n\u001b[1;32m----> 1\u001b[0m gdf2 \u001b[38;5;241m=\u001b[39m gdf2[\u001b[38;5;124;43m'\u001b[39;49m\u001b[38;5;124;43mAmt (mm)\u001b[39;49m\u001b[38;5;124;43m'\u001b[39;49m\u001b[43m \u001b[49m\u001b[38;5;241;43m>\u001b[39;49m\u001b[43m \u001b[49m\u001b[38;5;241;43m0\u001b[39;49m]\n",
      "\u001b[1;31mTypeError\u001b[0m: '>' not supported between instances of 'str' and 'int'"
     ]
    }
   ],
   "source": [
    "gdf2 = gdf2['Amt (mm)' > 0]"
   ]
  },
  {
   "cell_type": "code",
   "execution_count": 46,
   "id": "d975420b-2d57-4af5-971d-2be65e3bde23",
   "metadata": {},
   "outputs": [
    {
     "data": {
      "text/plain": [
       "ID            object\n",
       "year          object\n",
       "month         object\n",
       "element       object\n",
       "Date          object\n",
       "Amt (mm)     float64\n",
       "Lat           object\n",
       "Long          object\n",
       "geometry    geometry\n",
       "dtype: object"
      ]
     },
     "execution_count": 46,
     "metadata": {},
     "output_type": "execute_result"
    }
   ],
   "source": [
    "gdf2.dtypes"
   ]
  },
  {
   "cell_type": "code",
   "execution_count": 4,
   "id": "8ce967d6-84ee-4019-8b21-0ab91af93ae8",
   "metadata": {},
   "outputs": [],
   "source": [
    "%%R\n",
    "setwd(\"~/Paul's reports/spatial statistics/indv files\")"
   ]
  },
  {
   "cell_type": "code",
   "execution_count": 5,
   "id": "e1311ace-229e-400e-9dbc-07853493a37b",
   "metadata": {},
   "outputs": [],
   "source": [
    "%%R\n",
    "stations_full <- read_sf(\"stations_full.geojson\")\n",
    "#plot(stations)"
   ]
  },
  {
   "cell_type": "code",
   "execution_count": 6,
   "id": "738b5c14-21be-49cd-9c88-2d83ffa2f268",
   "metadata": {},
   "outputs": [],
   "source": [
    "%%R\n",
    "stations_kriged <- read_sf(\"kriging_results.geojson\")"
   ]
  },
  {
   "cell_type": "code",
   "execution_count": 13,
   "id": "ae6dc94f-0448-4840-8dfa-dd6ead70a207",
   "metadata": {},
   "outputs": [],
   "source": [
    "%%R\n",
    "#colnm = colnames(stations_full)\n",
    "#colnm #if you need to confirm col names\n",
    "names(stations_full)[names(stations_full)=='Amt..mm.'] <- 'Amt'"
   ]
  },
  {
   "cell_type": "code",
   "execution_count": 15,
   "id": "9ad11ceb-72f1-4188-8e85-bf91620995a5",
   "metadata": {},
   "outputs": [],
   "source": [
    "%%R\n",
    "stations_full <- as_Spatial(stations_full)"
   ]
  },
  {
   "cell_type": "code",
   "execution_count": 16,
   "id": "8eacecdf-9158-456b-b6a2-76e89ea7dcc6",
   "metadata": {},
   "outputs": [],
   "source": [
    "%%R\n",
    "stations.grid <- makegrid(stations_full, cellsize = 5000) # cell size in map projection units, in this case meters\n",
    "stations.grid <- as_Spatial(st_as_sf(stations.grid, coords = c(\"x1\", \"x2\"), crs = 6933, agr = \"constant\"))\n",
    "#plot(stations.grid)"
   ]
  },
  {
   "cell_type": "code",
   "execution_count": 17,
   "id": "a1e097b0-db49-43e7-b01f-3eb0bb5eb1ef",
   "metadata": {},
   "outputs": [
    {
     "data": {
      "image/png": "[encoded data removed]"
     },
     "metadata": {},
     "output_type": "display_data"
    }
   ],
   "source": [
    "%%R\n",
    "plot(stations.grid)"
   ]
  },
  {
   "cell_type": "code",
   "execution_count": 19,
   "id": "fb0b61a0-a4ff-451a-9120-a90879a0d6d0",
   "metadata": {},
   "outputs": [],
   "source": [
    "%%R\n",
    "stations_full.vgm <- variogram(Amt~1, stations_full)"
   ]
  },
  {
   "cell_type": "code",
   "execution_count": 21,
   "id": "0a0b17f4-d932-4012-97f6-4a28dde5bb6d",
   "metadata": {},
   "outputs": [],
   "source": [
    "%%R\n",
    "stations_full.fit <- fit.variogram(stations_full.vgm, model=vgm(1, \"Lin\", 2500, 1))"
   ]
  },
  {
   "cell_type": "code",
   "execution_count": null,
   "id": "1808fe26-d9c1-4bde-a25f-eb504d529788",
   "metadata": {},
   "outputs": [],
   "source": [
    "%%R\n",
    "stations_full1.kriged <- st_as_sf(krige(Amt ~ 1, stations_full, stations.grid, model=stations_full.fit, nmax=25))"
   ]
  },
  {
   "cell_type": "code",
   "execution_count": 16,
   "id": "321abfb2-c9bd-4354-8feb-e8f90eca361d",
   "metadata": {},
   "outputs": [
    {
     "data": {
      "image/png": "[encoded data removed]"
     },
     "metadata": {},
     "output_type": "display_data"
    }
   ],
   "source": [
    "%%R\n",
    "plot(kriged)"
   ]
  },
  {
   "cell_type": "code",
   "execution_count": 27,
   "id": "75b0edfa-b37c-402a-b6f7-e2bf54127b18",
   "metadata": {},
   "outputs": [
    {
     "name": "stdout",
     "output_type": "stream",
     "text": [
      "Writing layer `kriging_results' to data source \n",
      "  `kriging_results.geojson' using driver `GeoJSON'\n",
      "Writing 64380 features with 2 fields and geometry type Point.\n"
     ]
    }
   ],
   "source": [
    "%%R\n",
    "st_write(stations_full.kriged, \"kriging_results.geojson\")"
   ]
  },
  {
   "cell_type": "code",
   "execution_count": 51,
   "id": "d775d4bc-55c0-4e92-bab0-28636d2b8543",
   "metadata": {},
   "outputs": [],
   "source": [
    "%%R\n",
    "kriged1 <- read_sf(\"kriging_results.geojson\")"
   ]
  },
  {
   "cell_type": "code",
   "execution_count": 55,
   "id": "aad6a7a5-b411-4f30-831f-155a9a01044d",
   "metadata": {
    "tags": []
   },
   "outputs": [
    {
     "name": "stdout",
     "output_type": "stream",
     "text": [
      "Simple feature collection with 64380 features and 4 fields\n",
      "Geometry type: POINT\n",
      "Dimension:     XY\n",
      "Bounding box:  xmin: -11290000 ymin: 4404000 xmax: -9845000 ymax: 5509000\n",
      "Projected CRS: WGS 84 / NSIDC EASE-Grid 2.0 Global\n",
      "\u001b[38;5;246m# A tibble: 64,380 x 5\u001b[39m\n",
      "   var1.pred var1.var            geometry       lon     lat\n",
      " \u001b[38;5;250m*\u001b[39m     \u001b[3m\u001b[38;5;246m<dbl>\u001b[39m\u001b[23m    \u001b[3m\u001b[38;5;246m<dbl>\u001b[39m\u001b[23m         \u001b[3m\u001b[38;5;246m<POINT [m]>\u001b[39m\u001b[23m     \u001b[3m\u001b[38;5;246m<dbl>\u001b[39m\u001b[23m   \u001b[3m\u001b[38;5;246m<dbl>\u001b[39m\u001b[23m\n",
      "\u001b[38;5;250m 1\u001b[39m        48     2.67 (-11290000 4404000) -\u001b[31m11\u001b[4m2\u001b[24m\u001b[39m\u001b[31m\u001b[4m9\u001b[24m\u001b[4m0\u001b[24m000\u001b[39m 4\u001b[4m4\u001b[24m\u001b[4m0\u001b[24m\u001b[4m4\u001b[24m000\n",
      "\u001b[38;5;250m 2\u001b[39m        48     2.67 (-11285000 4404000) -\u001b[31m11\u001b[4m2\u001b[24m\u001b[39m\u001b[31m\u001b[4m8\u001b[24m\u001b[4m5\u001b[24m000\u001b[39m 4\u001b[4m4\u001b[24m\u001b[4m0\u001b[24m\u001b[4m4\u001b[24m000\n",
      "\u001b[38;5;250m 3\u001b[39m        48     2.67 (-11280000 4404000) -\u001b[31m11\u001b[4m2\u001b[24m\u001b[39m\u001b[31m\u001b[4m8\u001b[24m\u001b[4m0\u001b[24m000\u001b[39m 4\u001b[4m4\u001b[24m\u001b[4m0\u001b[24m\u001b[4m4\u001b[24m000\n",
      "\u001b[38;5;250m 4\u001b[39m        48     2.67 (-11275000 4404000) -\u001b[31m11\u001b[4m2\u001b[24m\u001b[39m\u001b[31m\u001b[4m7\u001b[24m\u001b[4m5\u001b[24m000\u001b[39m 4\u001b[4m4\u001b[24m\u001b[4m0\u001b[24m\u001b[4m4\u001b[24m000\n",
      "\u001b[38;5;250m 5\u001b[39m        48     2.67 (-11270000 4404000) -\u001b[31m11\u001b[4m2\u001b[24m\u001b[39m\u001b[31m\u001b[4m7\u001b[24m\u001b[4m0\u001b[24m000\u001b[39m 4\u001b[4m4\u001b[24m\u001b[4m0\u001b[24m\u001b[4m4\u001b[24m000\n",
      "\u001b[38;5;250m 6\u001b[39m        48     2.67 (-11265000 4404000) -\u001b[31m11\u001b[4m2\u001b[24m\u001b[39m\u001b[31m\u001b[4m6\u001b[24m\u001b[4m5\u001b[24m000\u001b[39m 4\u001b[4m4\u001b[24m\u001b[4m0\u001b[24m\u001b[4m4\u001b[24m000\n",
      "\u001b[38;5;250m 7\u001b[39m        48     2.67 (-11260000 4404000) -\u001b[31m11\u001b[4m2\u001b[24m\u001b[39m\u001b[31m\u001b[4m6\u001b[24m\u001b[4m0\u001b[24m000\u001b[39m 4\u001b[4m4\u001b[24m\u001b[4m0\u001b[24m\u001b[4m4\u001b[24m000\n",
      "\u001b[38;5;250m 8\u001b[39m        48     2.67 (-11255000 4404000) -\u001b[31m11\u001b[4m2\u001b[24m\u001b[39m\u001b[31m\u001b[4m5\u001b[24m\u001b[4m5\u001b[24m000\u001b[39m 4\u001b[4m4\u001b[24m\u001b[4m0\u001b[24m\u001b[4m4\u001b[24m000\n",
      "\u001b[38;5;250m 9\u001b[39m        48     2.67 (-11250000 4404000) -\u001b[31m11\u001b[4m2\u001b[24m\u001b[39m\u001b[31m\u001b[4m5\u001b[24m\u001b[4m0\u001b[24m000\u001b[39m 4\u001b[4m4\u001b[24m\u001b[4m0\u001b[24m\u001b[4m4\u001b[24m000\n",
      "\u001b[38;5;250m10\u001b[39m        48     2.67 (-11245000 4404000) -\u001b[31m11\u001b[4m2\u001b[24m\u001b[39m\u001b[31m\u001b[4m4\u001b[24m\u001b[4m5\u001b[24m000\u001b[39m 4\u001b[4m4\u001b[24m\u001b[4m0\u001b[24m\u001b[4m4\u001b[24m000\n",
      "\u001b[38;5;246m# ... with 64,370 more rows\u001b[39m\n"
     ]
    }
   ],
   "source": [
    "%%R\n",
    "print(kriged1)"
   ]
  },
  {
   "cell_type": "code",
   "execution_count": 36,
   "id": "f5252e93-70bf-4d7d-a25f-a6d8fffd1d0d",
   "metadata": {},
   "outputs": [],
   "source": [
    "%%R\n",
    "kriged$lat <- as.integer(kriged$lat)\n",
    "kriged$lon <- as.integer(kriged$lon)\n",
    "kriged$var1.pred <- as.integer(kriged$var1.pred)\n",
    "kriged$var1.var <- as.integer(kriged$var1.var)"
   ]
  },
  {
   "cell_type": "code",
   "execution_count": 10,
   "id": "9bb24a0d-cd28-443a-8476-43237baabf51",
   "metadata": {},
   "outputs": [],
   "source": [
    "%%R\n",
    "library('ggplot2')"
   ]
  },
  {
   "cell_type": "code",
   "execution_count": 54,
   "id": "513e5fdc-2e72-476b-86ac-bd1e5fb619e9",
   "metadata": {},
   "outputs": [],
   "source": [
    "%%R\n",
    "kriged1 <- kriged1 %>%\n",
    "  dplyr::mutate(lon = sf::st_coordinates(.)[,1],\n",
    "                lat = sf::st_coordinates(.)[,2])"
   ]
  },
  {
   "cell_type": "code",
   "execution_count": 19,
   "id": "a068cb31-441e-4b3a-94e9-8614168c7cb1",
   "metadata": {
    "collapsed": true,
    "jupyter": {
     "outputs_hidden": true
    },
    "tags": []
   },
   "outputs": [
    {
     "name": "stderr",
     "output_type": "stream",
     "text": [
      "R[write to console]: \n",
      "Attaching package: 'dplyr'\n",
      "\n",
      "\n",
      "R[write to console]: The following objects are masked from 'package:stats':\n",
      "\n",
      "    filter, lag\n",
      "\n",
      "\n",
      "R[write to console]: The following objects are masked from 'package:base':\n",
      "\n",
      "    intersect, setdiff, setequal, union\n",
      "\n",
      "\n"
     ]
    }
   ],
   "source": [
    "%%R\n",
    "library(dplyr)"
   ]
  },
  {
   "cell_type": "code",
   "execution_count": 56,
   "id": "7fe2b18a-7fb9-4b46-b2d6-22aa5c1c3617",
   "metadata": {},
   "outputs": [],
   "source": [
    "%%R\n",
    "kriged2 <- as.data.frame(kriged1)"
   ]
  },
  {
   "cell_type": "code",
   "execution_count": 15,
   "id": "665c6d9f-353e-4cf9-ad25-4e00e5aaed81",
   "metadata": {
    "collapsed": true,
    "jupyter": {
     "outputs_hidden": true
    },
    "tags": []
   },
   "outputs": [
    {
     "name": "stderr",
     "output_type": "stream",
     "text": [
      "R[write to console]: Error in (function (classes, fdef, mtable)  : \n",
      "  unable to find an inherited method for function 'coordinates<-' for signature '\"sf\"'\n",
      "\n"
     ]
    },
    {
     "name": "stdout",
     "output_type": "stream",
     "text": [
      "\n",
      "Error in (function (classes, fdef, mtable)  : \n",
      "  unable to find an inherited method for function 'coordinates<-' for signature '\"sf\"'\n"
     ]
    },
    {
     "ename": "RInterpreterError",
     "evalue": "Failed to parse and evaluate line 'coordinates(kriged) <- ~ x + y\\n'.\nR error message: 'Error in (function (classes, fdef, mtable)  : \\n  unable to find an inherited method for function \\'coordinates<-\\' for signature \\'\"sf\"\\''",
     "output_type": "error",
     "traceback": [
      "\u001b[1;31m---------------------------------------------------------------------------\u001b[0m",
      "\u001b[1;31mRRuntimeError\u001b[0m                             Traceback (most recent call last)",
      "File \u001b[1;32m~\\miniconda3\\envs\\info615\\lib\\site-packages\\rpy2\\ipython\\rmagic.py:280\u001b[0m, in \u001b[0;36mRMagics.eval\u001b[1;34m(self, code)\u001b[0m\n\u001b[0;32m    278\u001b[0m \u001b[38;5;28;01mtry\u001b[39;00m:\n\u001b[0;32m    279\u001b[0m     \u001b[38;5;66;03m# Need the newline in case the last line in code is a comment.\u001b[39;00m\n\u001b[1;32m--> 280\u001b[0m     value, visible \u001b[38;5;241m=\u001b[39m \u001b[43mro\u001b[49m\u001b[38;5;241;43m.\u001b[39;49m\u001b[43mr\u001b[49m\u001b[43m(\u001b[49m\u001b[38;5;124;43m\"\u001b[39;49m\u001b[38;5;124;43mwithVisible(\u001b[39;49m\u001b[38;5;124;43m{\u001b[39;49m\u001b[38;5;132;43;01m%s\u001b[39;49;00m\u001b[38;5;130;43;01m\\n\u001b[39;49;00m\u001b[38;5;124;43m})\u001b[39;49m\u001b[38;5;124;43m\"\u001b[39;49m\u001b[43m \u001b[49m\u001b[38;5;241;43m%\u001b[39;49m\u001b[43m \u001b[49m\u001b[43mcode\u001b[49m\u001b[43m)\u001b[49m\n\u001b[0;32m    281\u001b[0m \u001b[38;5;28;01mexcept\u001b[39;00m (ri\u001b[38;5;241m.\u001b[39membedded\u001b[38;5;241m.\u001b[39mRRuntimeError, \u001b[38;5;167;01mValueError\u001b[39;00m) \u001b[38;5;28;01mas\u001b[39;00m exception:\n\u001b[0;32m    282\u001b[0m     \u001b[38;5;66;03m# Otherwise next return seems to have copy of error.\u001b[39;00m\n",
      "File \u001b[1;32m~\\miniconda3\\envs\\info615\\lib\\site-packages\\rpy2\\robjects\\__init__.py:451\u001b[0m, in \u001b[0;36mR.__call__\u001b[1;34m(self, string)\u001b[0m\n\u001b[0;32m    450\u001b[0m p \u001b[38;5;241m=\u001b[39m rinterface\u001b[38;5;241m.\u001b[39mparse(string)\n\u001b[1;32m--> 451\u001b[0m res \u001b[38;5;241m=\u001b[39m \u001b[38;5;28;43mself\u001b[39;49m\u001b[38;5;241;43m.\u001b[39;49m\u001b[43meval\u001b[49m\u001b[43m(\u001b[49m\u001b[43mp\u001b[49m\u001b[43m)\u001b[49m\n\u001b[0;32m    452\u001b[0m \u001b[38;5;28;01mreturn\u001b[39;00m conversion\u001b[38;5;241m.\u001b[39mrpy2py(res)\n",
      "File \u001b[1;32m~\\miniconda3\\envs\\info615\\lib\\site-packages\\rpy2\\robjects\\functions.py:201\u001b[0m, in \u001b[0;36mSignatureTranslatedFunction.__call__\u001b[1;34m(self, *args, **kwargs)\u001b[0m\n\u001b[0;32m    200\u001b[0m         kwargs[r_k] \u001b[38;5;241m=\u001b[39m v\n\u001b[1;32m--> 201\u001b[0m \u001b[38;5;28;01mreturn\u001b[39;00m (\u001b[38;5;28;43msuper\u001b[39;49m\u001b[43m(\u001b[49m\u001b[43mSignatureTranslatedFunction\u001b[49m\u001b[43m,\u001b[49m\u001b[43m \u001b[49m\u001b[38;5;28;43mself\u001b[39;49m\u001b[43m)\u001b[49m\n\u001b[0;32m    202\u001b[0m \u001b[43m        \u001b[49m\u001b[38;5;241;43m.\u001b[39;49m\u001b[38;5;21;43m__call__\u001b[39;49m\u001b[43m(\u001b[49m\u001b[38;5;241;43m*\u001b[39;49m\u001b[43margs\u001b[49m\u001b[43m,\u001b[49m\u001b[43m \u001b[49m\u001b[38;5;241;43m*\u001b[39;49m\u001b[38;5;241;43m*\u001b[39;49m\u001b[43mkwargs\u001b[49m\u001b[43m)\u001b[49m)\n",
      "File \u001b[1;32m~\\miniconda3\\envs\\info615\\lib\\site-packages\\rpy2\\robjects\\functions.py:124\u001b[0m, in \u001b[0;36mFunction.__call__\u001b[1;34m(self, *args, **kwargs)\u001b[0m\n\u001b[0;32m    123\u001b[0m         new_kwargs[k] \u001b[38;5;241m=\u001b[39m conversion\u001b[38;5;241m.\u001b[39mpy2rpy(v)\n\u001b[1;32m--> 124\u001b[0m res \u001b[38;5;241m=\u001b[39m \u001b[38;5;28;43msuper\u001b[39;49m\u001b[43m(\u001b[49m\u001b[43mFunction\u001b[49m\u001b[43m,\u001b[49m\u001b[43m \u001b[49m\u001b[38;5;28;43mself\u001b[39;49m\u001b[43m)\u001b[49m\u001b[38;5;241;43m.\u001b[39;49m\u001b[38;5;21;43m__call__\u001b[39;49m\u001b[43m(\u001b[49m\u001b[38;5;241;43m*\u001b[39;49m\u001b[43mnew_args\u001b[49m\u001b[43m,\u001b[49m\u001b[43m \u001b[49m\u001b[38;5;241;43m*\u001b[39;49m\u001b[38;5;241;43m*\u001b[39;49m\u001b[43mnew_kwargs\u001b[49m\u001b[43m)\u001b[49m\n\u001b[0;32m    125\u001b[0m res \u001b[38;5;241m=\u001b[39m conversion\u001b[38;5;241m.\u001b[39mrpy2py(res)\n",
      "File \u001b[1;32m~\\miniconda3\\envs\\info615\\lib\\site-packages\\rpy2\\rinterface_lib\\conversion.py:45\u001b[0m, in \u001b[0;36m_cdata_res_to_rinterface.<locals>._\u001b[1;34m(*args, **kwargs)\u001b[0m\n\u001b[0;32m     44\u001b[0m \u001b[38;5;28;01mdef\u001b[39;00m \u001b[38;5;21m_\u001b[39m(\u001b[38;5;241m*\u001b[39margs, \u001b[38;5;241m*\u001b[39m\u001b[38;5;241m*\u001b[39mkwargs):\n\u001b[1;32m---> 45\u001b[0m     cdata \u001b[38;5;241m=\u001b[39m \u001b[43mfunction\u001b[49m\u001b[43m(\u001b[49m\u001b[38;5;241;43m*\u001b[39;49m\u001b[43margs\u001b[49m\u001b[43m,\u001b[49m\u001b[43m \u001b[49m\u001b[38;5;241;43m*\u001b[39;49m\u001b[38;5;241;43m*\u001b[39;49m\u001b[43mkwargs\u001b[49m\u001b[43m)\u001b[49m\n\u001b[0;32m     46\u001b[0m     \u001b[38;5;66;03m# TODO: test cdata is of the expected CType\u001b[39;00m\n",
      "File \u001b[1;32m~\\miniconda3\\envs\\info615\\lib\\site-packages\\rpy2\\rinterface.py:810\u001b[0m, in \u001b[0;36mSexpClosure.__call__\u001b[1;34m(self, *args, **kwargs)\u001b[0m\n\u001b[0;32m    809\u001b[0m     \u001b[38;5;28;01mif\u001b[39;00m error_occured[\u001b[38;5;241m0\u001b[39m]:\n\u001b[1;32m--> 810\u001b[0m         \u001b[38;5;28;01mraise\u001b[39;00m embedded\u001b[38;5;241m.\u001b[39mRRuntimeError(_rinterface\u001b[38;5;241m.\u001b[39m_geterrmessage())\n\u001b[0;32m    811\u001b[0m \u001b[38;5;28;01mreturn\u001b[39;00m res\n",
      "\u001b[1;31mRRuntimeError\u001b[0m: Error in (function (classes, fdef, mtable)  : \n  unable to find an inherited method for function 'coordinates<-' for signature '\"sf\"'\n",
      "\nDuring handling of the above exception, another exception occurred:\n",
      "\u001b[1;31mRInterpreterError\u001b[0m                         Traceback (most recent call last)",
      "Input \u001b[1;32mIn [15]\u001b[0m, in \u001b[0;36m<module>\u001b[1;34m\u001b[0m\n\u001b[1;32m----> 1\u001b[0m \u001b[43mget_ipython\u001b[49m\u001b[43m(\u001b[49m\u001b[43m)\u001b[49m\u001b[38;5;241;43m.\u001b[39;49m\u001b[43mrun_cell_magic\u001b[49m\u001b[43m(\u001b[49m\u001b[38;5;124;43m'\u001b[39;49m\u001b[38;5;124;43mR\u001b[39;49m\u001b[38;5;124;43m'\u001b[39;49m\u001b[43m,\u001b[49m\u001b[43m \u001b[49m\u001b[38;5;124;43m'\u001b[39;49m\u001b[38;5;124;43m'\u001b[39;49m\u001b[43m,\u001b[49m\u001b[43m \u001b[49m\u001b[38;5;124;43m'\u001b[39;49m\u001b[38;5;124;43mcoordinates(kriged) <- ~ x + y\u001b[39;49m\u001b[38;5;130;43;01m\\n\u001b[39;49;00m\u001b[38;5;124;43m'\u001b[39;49m\u001b[43m)\u001b[49m\n",
      "File \u001b[1;32m~\\miniconda3\\envs\\info615\\lib\\site-packages\\IPython\\core\\interactiveshell.py:2257\u001b[0m, in \u001b[0;36mInteractiveShell.run_cell_magic\u001b[1;34m(self, magic_name, line, cell)\u001b[0m\n\u001b[0;32m   2255\u001b[0m \u001b[38;5;28;01mwith\u001b[39;00m \u001b[38;5;28mself\u001b[39m\u001b[38;5;241m.\u001b[39mbuiltin_trap:\n\u001b[0;32m   2256\u001b[0m     args \u001b[38;5;241m=\u001b[39m (magic_arg_s, cell)\n\u001b[1;32m-> 2257\u001b[0m     result \u001b[38;5;241m=\u001b[39m \u001b[43mfn\u001b[49m\u001b[43m(\u001b[49m\u001b[38;5;241;43m*\u001b[39;49m\u001b[43margs\u001b[49m\u001b[43m,\u001b[49m\u001b[43m \u001b[49m\u001b[38;5;241;43m*\u001b[39;49m\u001b[38;5;241;43m*\u001b[39;49m\u001b[43mkwargs\u001b[49m\u001b[43m)\u001b[49m\n\u001b[0;32m   2258\u001b[0m \u001b[38;5;28;01mreturn\u001b[39;00m result\n",
      "File \u001b[1;32m~\\miniconda3\\envs\\info615\\lib\\site-packages\\rpy2\\ipython\\rmagic.py:795\u001b[0m, in \u001b[0;36mRMagics.R\u001b[1;34m(self, line, cell, local_ns)\u001b[0m\n\u001b[0;32m    793\u001b[0m     \u001b[38;5;28;01mif\u001b[39;00m \u001b[38;5;129;01mnot\u001b[39;00m e\u001b[38;5;241m.\u001b[39mstdout\u001b[38;5;241m.\u001b[39mendswith(e\u001b[38;5;241m.\u001b[39merr):\n\u001b[0;32m    794\u001b[0m         \u001b[38;5;28mprint\u001b[39m(e\u001b[38;5;241m.\u001b[39merr)\n\u001b[1;32m--> 795\u001b[0m     \u001b[38;5;28;01mraise\u001b[39;00m e\n\u001b[0;32m    796\u001b[0m \u001b[38;5;28;01mfinally\u001b[39;00m:\n\u001b[0;32m    797\u001b[0m     \u001b[38;5;28;01mif\u001b[39;00m \u001b[38;5;28mself\u001b[39m\u001b[38;5;241m.\u001b[39mdevice \u001b[38;5;129;01min\u001b[39;00m [\u001b[38;5;124m'\u001b[39m\u001b[38;5;124mpng\u001b[39m\u001b[38;5;124m'\u001b[39m, \u001b[38;5;124m'\u001b[39m\u001b[38;5;124msvg\u001b[39m\u001b[38;5;124m'\u001b[39m]:\n",
      "File \u001b[1;32m~\\miniconda3\\envs\\info615\\lib\\site-packages\\rpy2\\ipython\\rmagic.py:775\u001b[0m, in \u001b[0;36mRMagics.R\u001b[1;34m(self, line, cell, local_ns)\u001b[0m\n\u001b[0;32m    773\u001b[0m         return_output \u001b[38;5;241m=\u001b[39m \u001b[38;5;28;01mFalse\u001b[39;00m\n\u001b[0;32m    774\u001b[0m \u001b[38;5;28;01melse\u001b[39;00m:\n\u001b[1;32m--> 775\u001b[0m     text_result, result, visible \u001b[38;5;241m=\u001b[39m \u001b[38;5;28;43mself\u001b[39;49m\u001b[38;5;241;43m.\u001b[39;49m\u001b[43meval\u001b[49m\u001b[43m(\u001b[49m\u001b[43mcode\u001b[49m\u001b[43m)\u001b[49m\n\u001b[0;32m    776\u001b[0m     text_output \u001b[38;5;241m+\u001b[39m\u001b[38;5;241m=\u001b[39m text_result\n\u001b[0;32m    777\u001b[0m     \u001b[38;5;28;01mif\u001b[39;00m visible:\n",
      "File \u001b[1;32m~\\miniconda3\\envs\\info615\\lib\\site-packages\\rpy2\\ipython\\rmagic.py:284\u001b[0m, in \u001b[0;36mRMagics.eval\u001b[1;34m(self, code)\u001b[0m\n\u001b[0;32m    281\u001b[0m \u001b[38;5;28;01mexcept\u001b[39;00m (ri\u001b[38;5;241m.\u001b[39membedded\u001b[38;5;241m.\u001b[39mRRuntimeError, \u001b[38;5;167;01mValueError\u001b[39;00m) \u001b[38;5;28;01mas\u001b[39;00m exception:\n\u001b[0;32m    282\u001b[0m     \u001b[38;5;66;03m# Otherwise next return seems to have copy of error.\u001b[39;00m\n\u001b[0;32m    283\u001b[0m     warning_or_other_msg \u001b[38;5;241m=\u001b[39m \u001b[38;5;28mself\u001b[39m\u001b[38;5;241m.\u001b[39mflush()\n\u001b[1;32m--> 284\u001b[0m     \u001b[38;5;28;01mraise\u001b[39;00m RInterpreterError(code, \u001b[38;5;28mstr\u001b[39m(exception),\n\u001b[0;32m    285\u001b[0m                             warning_or_other_msg)\n\u001b[0;32m    286\u001b[0m text_output \u001b[38;5;241m=\u001b[39m \u001b[38;5;28mself\u001b[39m\u001b[38;5;241m.\u001b[39mflush()\n\u001b[0;32m    287\u001b[0m \u001b[38;5;28;01mreturn\u001b[39;00m text_output, value, visible[\u001b[38;5;241m0\u001b[39m]\n",
      "\u001b[1;31mRInterpreterError\u001b[0m: Failed to parse and evaluate line 'coordinates(kriged) <- ~ x + y\\n'.\nR error message: 'Error in (function (classes, fdef, mtable)  : \\n  unable to find an inherited method for function \\'coordinates<-\\' for signature \\'\"sf\"\\''"
     ]
    }
   ],
   "source": [
    "%%R\n",
    "coordinates(kriged) <- ~ x + y"
   ]
  },
  {
   "cell_type": "code",
   "execution_count": 41,
   "id": "0f2159c6-b936-4e13-9047-590209928f49",
   "metadata": {},
   "outputs": [],
   "source": [
    "%%R\n",
    "kriged$lat <- as.numeric(kriged$lat)\n",
    "kriged$lon <- as.numeric(kriged$lon)\n",
    "kriged$var1.pred <- as.numeric(kriged$var1.pred)\n",
    "kriged$var1.var <- as.numeric(kriged$var1.var)\n",
    "\n",
    "#meltDF$variable=as.numeric(levels(meltDF$variable))[meltDF$variable]\n",
    "kriged$lat=as.numeric(levels(kriged$lat))[kriged$lat]"
   ]
  },
  {
   "cell_type": "code",
   "execution_count": 59,
   "id": "234185f6-238f-43a8-9313-e011cf88d7fc",
   "metadata": {},
   "outputs": [
    {
     "data": {
      "image/png": "[encoded data removed]"
     },
     "metadata": {},
     "output_type": "display_data"
    }
   ],
   "source": [
    "%%R\n",
    "kriged2 %>% as.data.frame %>%\n",
    "  ggplot(aes(x=lon, y=lat)) + geom_tile(aes(fill=var1.pred)) + coord_equal() +\n",
    "  scale_fill_gradient(low = \"yellow\", high=\"red\") +\n",
    "  scale_x_discrete() + scale_y_discrete() +\n",
    "  theme_bw()"
   ]
  },
  {
   "cell_type": "code",
   "execution_count": 16,
   "id": "cfec0a5c-079a-41fa-8d47-a5c4a34a1373",
   "metadata": {},
   "outputs": [],
   "source": [
    "%%R\n",
    "stations_full = stations"
   ]
  },
  {
   "cell_type": "code",
   "execution_count": 14,
   "id": "2263411a-3dee-4161-81a1-c5e0d53134a0",
   "metadata": {},
   "outputs": [
    {
     "name": "stdout",
     "output_type": "stream",
     "text": [
      "[1] \"ID\"       \"year\"     \"month\"    \"element\"  \"Date\"     \"Amt\"      \"Lat\"     \n",
      "[8] \"Long\"     \"geometry\"\n"
     ]
    }
   ],
   "source": [
    "%%R\n",
    "colnm = colnames(stations_full)\n",
    "colnm #if you need to confim col names"
   ]
  },
  {
   "cell_type": "code",
   "execution_count": 23,
   "id": "a128750d-3da5-4a14-8edf-8f962d7cd784",
   "metadata": {
    "collapsed": true,
    "jupyter": {
     "outputs_hidden": true
    },
    "tags": []
   },
   "outputs": [
    {
     "name": "stderr",
     "output_type": "stream",
     "text": [
      "R[write to console]: Installing package into 'C:/Users/p7j5p/Documents/R/win-library/4.1'\n",
      "(as 'lib' is unspecified)\n",
      "\n",
      "R[write to console]: trying URL 'https://cloud.r-project.org/bin/windows/contrib/4.1/DataCombine_0.2.21.zip'\n",
      "\n",
      "R[write to console]: Content type 'application/zip'\n",
      "R[write to console]:  length 119990 bytes (117 KB)\n",
      "\n",
      "R[write to console]: downloaded 117 KB\n",
      "\n",
      "\n"
     ]
    },
    {
     "name": "stdout",
     "output_type": "stream",
     "text": [
      "package 'DataCombine' successfully unpacked and MD5 sums checked\n",
      "\n",
      "The downloaded binary packages are in\n",
      "\tC:\\Users\\p7j5p\\AppData\\Local\\Temp\\RtmpeWkLHi\\downloaded_packages\n"
     ]
    }
   ],
   "source": [
    "%%R\n",
    "install.packages('DataCombine')\n",
    "library('DataCombine')"
   ]
  },
  {
   "cell_type": "code",
   "execution_count": 28,
   "id": "27ed4903-35b2-44c9-946a-13c8d7b7f744",
   "metadata": {
    "collapsed": true,
    "jupyter": {
     "outputs_hidden": true
    },
    "tags": []
   },
   "outputs": [
    {
     "name": "stderr",
     "output_type": "stream",
     "text": [
      "R[write to console]: No Var specified. Dropping all NAs from the data frame.\n",
      "\n",
      "\n",
      "R[write to console]: 0 rows dropped from the data frame because of missing values.\n",
      "\n"
     ]
    },
    {
     "name": "stdout",
     "output_type": "stream",
     "text": [
      "Simple feature collection with 2507063 features and 8 fields\n",
      "Geometry type: POINT\n",
      "Dimension:     XY\n",
      "Bounding box:  xmin: -11290370 ymin: 4406019 xmax: -9847129 ymax: 5507917\n",
      "Projected CRS: WGS 84 / NSIDC EASE-Grid 2.0 Global\n",
      "\u001b[38;5;246m# A tibble: 2,507,063 x 9\u001b[39m\n",
      "   ID       year  month element Date  Amt   Lat    Long                 geometry\n",
      "   \u001b[3m\u001b[38;5;246m<chr>\u001b[39m\u001b[23m    \u001b[3m\u001b[38;5;246m<chr>\u001b[39m\u001b[23m \u001b[3m\u001b[38;5;246m<chr>\u001b[39m\u001b[23m \u001b[3m\u001b[38;5;246m<chr>\u001b[39m\u001b[23m   \u001b[3m\u001b[38;5;246m<chr>\u001b[39m\u001b[23m \u001b[3m\u001b[38;5;246m<chr>\u001b[39m\u001b[23m \u001b[3m\u001b[38;5;246m<chr>\u001b[39m\u001b[23m  \u001b[3m\u001b[38;5;246m<chr>\u001b[39m\u001b[23m             \u001b[3m\u001b[38;5;246m<POINT [m]>\u001b[39m\u001b[23m\n",
      "\u001b[38;5;250m 1\u001b[39m US1COAD~ 2002  1     SNOW    Val1  13    39.946 -104.~    (-10093314 4701776)\n",
      "\u001b[38;5;250m 2\u001b[39m US1COAD~ 2002  1     SNOW    Val2  NA    39.946 -104.~    (-10093314 4701776)\n",
      "\u001b[38;5;250m 3\u001b[39m US1COAD~ 2002  1     SNOW    Val3  0     39.946 -104.~    (-10093314 4701776)\n",
      "\u001b[38;5;250m 4\u001b[39m US1COAD~ 2002  1     SNOW    Val4  0     39.946 -104.~    (-10093314 4701776)\n",
      "\u001b[38;5;250m 5\u001b[39m US1COAD~ 2002  1     SNOW    Val5  NA    39.946 -104.~    (-10093314 4701776)\n",
      "\u001b[38;5;250m 6\u001b[39m US1COAD~ 2002  1     SNOW    Val6  0     39.946 -104.~    (-10093314 4701776)\n",
      "\u001b[38;5;250m 7\u001b[39m US1COAD~ 2002  1     SNOW    Val7  0     39.946 -104.~    (-10093314 4701776)\n",
      "\u001b[38;5;250m 8\u001b[39m US1COAD~ 2002  1     SNOW    Val8  0     39.946 -104.~    (-10093314 4701776)\n",
      "\u001b[38;5;250m 9\u001b[39m US1COAD~ 2002  1     SNOW    Val9  0     39.946 -104.~    (-10093314 4701776)\n",
      "\u001b[38;5;250m10\u001b[39m US1COAD~ 2002  1     SNOW    Val10 104   39.946 -104.~    (-10093314 4701776)\n",
      "\u001b[38;5;246m# ... with 2,507,053 more rows\u001b[39m\n"
     ]
    }
   ],
   "source": [
    "%%R\n",
    "DropNA(stations_full)"
   ]
  },
  {
   "cell_type": "code",
   "execution_count": 17,
   "id": "4ea97735-8a04-4c55-a645-e46c91e17f7c",
   "metadata": {
    "collapsed": true,
    "jupyter": {
     "outputs_hidden": true
    },
    "tags": []
   },
   "outputs": [
    {
     "name": "stderr",
     "output_type": "stream",
     "text": [
      "R[write to console]: Error in data.matrix(data) : \n",
      "  'list' object cannot be coerced to type 'double'\n",
      "\n"
     ]
    },
    {
     "name": "stdout",
     "output_type": "stream",
     "text": [
      "\n",
      "Error in data.matrix(data) : \n",
      "  'list' object cannot be coerced to type 'double'\n"
     ]
    },
    {
     "ename": "RInterpreterError",
     "evalue": "Failed to parse and evaluate line 'stations_full %>% filter(Amt == !0)\\n'.\nR error message: \"Error in data.matrix(data) : \\n  'list' object cannot be coerced to type 'double'\"",
     "output_type": "error",
     "traceback": [
      "\u001b[1;31m---------------------------------------------------------------------------\u001b[0m",
      "\u001b[1;31mRRuntimeError\u001b[0m                             Traceback (most recent call last)",
      "File \u001b[1;32m~\\miniconda3\\envs\\info615\\lib\\site-packages\\rpy2\\ipython\\rmagic.py:280\u001b[0m, in \u001b[0;36mRMagics.eval\u001b[1;34m(self, code)\u001b[0m\n\u001b[0;32m    278\u001b[0m \u001b[38;5;28;01mtry\u001b[39;00m:\n\u001b[0;32m    279\u001b[0m     \u001b[38;5;66;03m# Need the newline in case the last line in code is a comment.\u001b[39;00m\n\u001b[1;32m--> 280\u001b[0m     value, visible \u001b[38;5;241m=\u001b[39m \u001b[43mro\u001b[49m\u001b[38;5;241;43m.\u001b[39;49m\u001b[43mr\u001b[49m\u001b[43m(\u001b[49m\u001b[38;5;124;43m\"\u001b[39;49m\u001b[38;5;124;43mwithVisible(\u001b[39;49m\u001b[38;5;124;43m{\u001b[39;49m\u001b[38;5;132;43;01m%s\u001b[39;49;00m\u001b[38;5;130;43;01m\\n\u001b[39;49;00m\u001b[38;5;124;43m})\u001b[39;49m\u001b[38;5;124;43m\"\u001b[39;49m\u001b[43m \u001b[49m\u001b[38;5;241;43m%\u001b[39;49m\u001b[43m \u001b[49m\u001b[43mcode\u001b[49m\u001b[43m)\u001b[49m\n\u001b[0;32m    281\u001b[0m \u001b[38;5;28;01mexcept\u001b[39;00m (ri\u001b[38;5;241m.\u001b[39membedded\u001b[38;5;241m.\u001b[39mRRuntimeError, \u001b[38;5;167;01mValueError\u001b[39;00m) \u001b[38;5;28;01mas\u001b[39;00m exception:\n\u001b[0;32m    282\u001b[0m     \u001b[38;5;66;03m# Otherwise next return seems to have copy of error.\u001b[39;00m\n",
      "File \u001b[1;32m~\\miniconda3\\envs\\info615\\lib\\site-packages\\rpy2\\robjects\\__init__.py:451\u001b[0m, in \u001b[0;36mR.__call__\u001b[1;34m(self, string)\u001b[0m\n\u001b[0;32m    450\u001b[0m p \u001b[38;5;241m=\u001b[39m rinterface\u001b[38;5;241m.\u001b[39mparse(string)\n\u001b[1;32m--> 451\u001b[0m res \u001b[38;5;241m=\u001b[39m \u001b[38;5;28;43mself\u001b[39;49m\u001b[38;5;241;43m.\u001b[39;49m\u001b[43meval\u001b[49m\u001b[43m(\u001b[49m\u001b[43mp\u001b[49m\u001b[43m)\u001b[49m\n\u001b[0;32m    452\u001b[0m \u001b[38;5;28;01mreturn\u001b[39;00m conversion\u001b[38;5;241m.\u001b[39mrpy2py(res)\n",
      "File \u001b[1;32m~\\miniconda3\\envs\\info615\\lib\\site-packages\\rpy2\\robjects\\functions.py:201\u001b[0m, in \u001b[0;36mSignatureTranslatedFunction.__call__\u001b[1;34m(self, *args, **kwargs)\u001b[0m\n\u001b[0;32m    200\u001b[0m         kwargs[r_k] \u001b[38;5;241m=\u001b[39m v\n\u001b[1;32m--> 201\u001b[0m \u001b[38;5;28;01mreturn\u001b[39;00m (\u001b[38;5;28;43msuper\u001b[39;49m\u001b[43m(\u001b[49m\u001b[43mSignatureTranslatedFunction\u001b[49m\u001b[43m,\u001b[49m\u001b[43m \u001b[49m\u001b[38;5;28;43mself\u001b[39;49m\u001b[43m)\u001b[49m\n\u001b[0;32m    202\u001b[0m \u001b[43m        \u001b[49m\u001b[38;5;241;43m.\u001b[39;49m\u001b[38;5;21;43m__call__\u001b[39;49m\u001b[43m(\u001b[49m\u001b[38;5;241;43m*\u001b[39;49m\u001b[43margs\u001b[49m\u001b[43m,\u001b[49m\u001b[43m \u001b[49m\u001b[38;5;241;43m*\u001b[39;49m\u001b[38;5;241;43m*\u001b[39;49m\u001b[43mkwargs\u001b[49m\u001b[43m)\u001b[49m)\n",
      "File \u001b[1;32m~\\miniconda3\\envs\\info615\\lib\\site-packages\\rpy2\\robjects\\functions.py:124\u001b[0m, in \u001b[0;36mFunction.__call__\u001b[1;34m(self, *args, **kwargs)\u001b[0m\n\u001b[0;32m    123\u001b[0m         new_kwargs[k] \u001b[38;5;241m=\u001b[39m conversion\u001b[38;5;241m.\u001b[39mpy2rpy(v)\n\u001b[1;32m--> 124\u001b[0m res \u001b[38;5;241m=\u001b[39m \u001b[38;5;28;43msuper\u001b[39;49m\u001b[43m(\u001b[49m\u001b[43mFunction\u001b[49m\u001b[43m,\u001b[49m\u001b[43m \u001b[49m\u001b[38;5;28;43mself\u001b[39;49m\u001b[43m)\u001b[49m\u001b[38;5;241;43m.\u001b[39;49m\u001b[38;5;21;43m__call__\u001b[39;49m\u001b[43m(\u001b[49m\u001b[38;5;241;43m*\u001b[39;49m\u001b[43mnew_args\u001b[49m\u001b[43m,\u001b[49m\u001b[43m \u001b[49m\u001b[38;5;241;43m*\u001b[39;49m\u001b[38;5;241;43m*\u001b[39;49m\u001b[43mnew_kwargs\u001b[49m\u001b[43m)\u001b[49m\n\u001b[0;32m    125\u001b[0m res \u001b[38;5;241m=\u001b[39m conversion\u001b[38;5;241m.\u001b[39mrpy2py(res)\n",
      "File \u001b[1;32m~\\miniconda3\\envs\\info615\\lib\\site-packages\\rpy2\\rinterface_lib\\conversion.py:45\u001b[0m, in \u001b[0;36m_cdata_res_to_rinterface.<locals>._\u001b[1;34m(*args, **kwargs)\u001b[0m\n\u001b[0;32m     44\u001b[0m \u001b[38;5;28;01mdef\u001b[39;00m \u001b[38;5;21m_\u001b[39m(\u001b[38;5;241m*\u001b[39margs, \u001b[38;5;241m*\u001b[39m\u001b[38;5;241m*\u001b[39mkwargs):\n\u001b[1;32m---> 45\u001b[0m     cdata \u001b[38;5;241m=\u001b[39m \u001b[43mfunction\u001b[49m\u001b[43m(\u001b[49m\u001b[38;5;241;43m*\u001b[39;49m\u001b[43margs\u001b[49m\u001b[43m,\u001b[49m\u001b[43m \u001b[49m\u001b[38;5;241;43m*\u001b[39;49m\u001b[38;5;241;43m*\u001b[39;49m\u001b[43mkwargs\u001b[49m\u001b[43m)\u001b[49m\n\u001b[0;32m     46\u001b[0m     \u001b[38;5;66;03m# TODO: test cdata is of the expected CType\u001b[39;00m\n",
      "File \u001b[1;32m~\\miniconda3\\envs\\info615\\lib\\site-packages\\rpy2\\rinterface.py:810\u001b[0m, in \u001b[0;36mSexpClosure.__call__\u001b[1;34m(self, *args, **kwargs)\u001b[0m\n\u001b[0;32m    809\u001b[0m     \u001b[38;5;28;01mif\u001b[39;00m error_occured[\u001b[38;5;241m0\u001b[39m]:\n\u001b[1;32m--> 810\u001b[0m         \u001b[38;5;28;01mraise\u001b[39;00m embedded\u001b[38;5;241m.\u001b[39mRRuntimeError(_rinterface\u001b[38;5;241m.\u001b[39m_geterrmessage())\n\u001b[0;32m    811\u001b[0m \u001b[38;5;28;01mreturn\u001b[39;00m res\n",
      "\u001b[1;31mRRuntimeError\u001b[0m: Error in data.matrix(data) : \n  'list' object cannot be coerced to type 'double'\n",
      "\nDuring handling of the above exception, another exception occurred:\n",
      "\u001b[1;31mRInterpreterError\u001b[0m                         Traceback (most recent call last)",
      "Input \u001b[1;32mIn [17]\u001b[0m, in \u001b[0;36m<module>\u001b[1;34m\u001b[0m\n\u001b[1;32m----> 1\u001b[0m \u001b[43mget_ipython\u001b[49m\u001b[43m(\u001b[49m\u001b[43m)\u001b[49m\u001b[38;5;241;43m.\u001b[39;49m\u001b[43mrun_cell_magic\u001b[49m\u001b[43m(\u001b[49m\u001b[38;5;124;43m'\u001b[39;49m\u001b[38;5;124;43mR\u001b[39;49m\u001b[38;5;124;43m'\u001b[39;49m\u001b[43m,\u001b[49m\u001b[43m \u001b[49m\u001b[38;5;124;43m'\u001b[39;49m\u001b[38;5;124;43m'\u001b[39;49m\u001b[43m,\u001b[49m\u001b[43m \u001b[49m\u001b[38;5;124;43m'\u001b[39;49m\u001b[38;5;124;43mstations_full \u001b[39;49m\u001b[38;5;124;43m%\u001b[39;49m\u001b[38;5;124;43m>\u001b[39;49m\u001b[38;5;132;43;01m% f\u001b[39;49;00m\u001b[38;5;124;43milter(Amt == !0)\u001b[39;49m\u001b[38;5;130;43;01m\\n\u001b[39;49;00m\u001b[38;5;124;43m'\u001b[39;49m\u001b[43m)\u001b[49m\n",
      "File \u001b[1;32m~\\miniconda3\\envs\\info615\\lib\\site-packages\\IPython\\core\\interactiveshell.py:2257\u001b[0m, in \u001b[0;36mInteractiveShell.run_cell_magic\u001b[1;34m(self, magic_name, line, cell)\u001b[0m\n\u001b[0;32m   2255\u001b[0m \u001b[38;5;28;01mwith\u001b[39;00m \u001b[38;5;28mself\u001b[39m\u001b[38;5;241m.\u001b[39mbuiltin_trap:\n\u001b[0;32m   2256\u001b[0m     args \u001b[38;5;241m=\u001b[39m (magic_arg_s, cell)\n\u001b[1;32m-> 2257\u001b[0m     result \u001b[38;5;241m=\u001b[39m \u001b[43mfn\u001b[49m\u001b[43m(\u001b[49m\u001b[38;5;241;43m*\u001b[39;49m\u001b[43margs\u001b[49m\u001b[43m,\u001b[49m\u001b[43m \u001b[49m\u001b[38;5;241;43m*\u001b[39;49m\u001b[38;5;241;43m*\u001b[39;49m\u001b[43mkwargs\u001b[49m\u001b[43m)\u001b[49m\n\u001b[0;32m   2258\u001b[0m \u001b[38;5;28;01mreturn\u001b[39;00m result\n",
      "File \u001b[1;32m~\\miniconda3\\envs\\info615\\lib\\site-packages\\rpy2\\ipython\\rmagic.py:795\u001b[0m, in \u001b[0;36mRMagics.R\u001b[1;34m(self, line, cell, local_ns)\u001b[0m\n\u001b[0;32m    793\u001b[0m     \u001b[38;5;28;01mif\u001b[39;00m \u001b[38;5;129;01mnot\u001b[39;00m e\u001b[38;5;241m.\u001b[39mstdout\u001b[38;5;241m.\u001b[39mendswith(e\u001b[38;5;241m.\u001b[39merr):\n\u001b[0;32m    794\u001b[0m         \u001b[38;5;28mprint\u001b[39m(e\u001b[38;5;241m.\u001b[39merr)\n\u001b[1;32m--> 795\u001b[0m     \u001b[38;5;28;01mraise\u001b[39;00m e\n\u001b[0;32m    796\u001b[0m \u001b[38;5;28;01mfinally\u001b[39;00m:\n\u001b[0;32m    797\u001b[0m     \u001b[38;5;28;01mif\u001b[39;00m \u001b[38;5;28mself\u001b[39m\u001b[38;5;241m.\u001b[39mdevice \u001b[38;5;129;01min\u001b[39;00m [\u001b[38;5;124m'\u001b[39m\u001b[38;5;124mpng\u001b[39m\u001b[38;5;124m'\u001b[39m, \u001b[38;5;124m'\u001b[39m\u001b[38;5;124msvg\u001b[39m\u001b[38;5;124m'\u001b[39m]:\n",
      "File \u001b[1;32m~\\miniconda3\\envs\\info615\\lib\\site-packages\\rpy2\\ipython\\rmagic.py:775\u001b[0m, in \u001b[0;36mRMagics.R\u001b[1;34m(self, line, cell, local_ns)\u001b[0m\n\u001b[0;32m    773\u001b[0m         return_output \u001b[38;5;241m=\u001b[39m \u001b[38;5;28;01mFalse\u001b[39;00m\n\u001b[0;32m    774\u001b[0m \u001b[38;5;28;01melse\u001b[39;00m:\n\u001b[1;32m--> 775\u001b[0m     text_result, result, visible \u001b[38;5;241m=\u001b[39m \u001b[38;5;28;43mself\u001b[39;49m\u001b[38;5;241;43m.\u001b[39;49m\u001b[43meval\u001b[49m\u001b[43m(\u001b[49m\u001b[43mcode\u001b[49m\u001b[43m)\u001b[49m\n\u001b[0;32m    776\u001b[0m     text_output \u001b[38;5;241m+\u001b[39m\u001b[38;5;241m=\u001b[39m text_result\n\u001b[0;32m    777\u001b[0m     \u001b[38;5;28;01mif\u001b[39;00m visible:\n",
      "File \u001b[1;32m~\\miniconda3\\envs\\info615\\lib\\site-packages\\rpy2\\ipython\\rmagic.py:284\u001b[0m, in \u001b[0;36mRMagics.eval\u001b[1;34m(self, code)\u001b[0m\n\u001b[0;32m    281\u001b[0m \u001b[38;5;28;01mexcept\u001b[39;00m (ri\u001b[38;5;241m.\u001b[39membedded\u001b[38;5;241m.\u001b[39mRRuntimeError, \u001b[38;5;167;01mValueError\u001b[39;00m) \u001b[38;5;28;01mas\u001b[39;00m exception:\n\u001b[0;32m    282\u001b[0m     \u001b[38;5;66;03m# Otherwise next return seems to have copy of error.\u001b[39;00m\n\u001b[0;32m    283\u001b[0m     warning_or_other_msg \u001b[38;5;241m=\u001b[39m \u001b[38;5;28mself\u001b[39m\u001b[38;5;241m.\u001b[39mflush()\n\u001b[1;32m--> 284\u001b[0m     \u001b[38;5;28;01mraise\u001b[39;00m RInterpreterError(code, \u001b[38;5;28mstr\u001b[39m(exception),\n\u001b[0;32m    285\u001b[0m                             warning_or_other_msg)\n\u001b[0;32m    286\u001b[0m text_output \u001b[38;5;241m=\u001b[39m \u001b[38;5;28mself\u001b[39m\u001b[38;5;241m.\u001b[39mflush()\n\u001b[0;32m    287\u001b[0m \u001b[38;5;28;01mreturn\u001b[39;00m text_output, value, visible[\u001b[38;5;241m0\u001b[39m]\n",
      "\u001b[1;31mRInterpreterError\u001b[0m: Failed to parse and evaluate line 'stations_full %>% filter(Amt == !0)\\n'.\nR error message: \"Error in data.matrix(data) : \\n  'list' object cannot be coerced to type 'double'\""
     ]
    }
   ],
   "source": [
    "%%R\n",
    "stations_full %>% filter(Amt == !0)"
   ]
  },
  {
   "cell_type": "code",
   "execution_count": 12,
   "id": "f84ed6b9-b49a-46fb-b27d-35afdcd27768",
   "metadata": {},
   "outputs": [],
   "source": [
    "%%R\n",
    "stations <- read_sf(\"stations.geojson\")\n",
    "#stations <- as_Spatial(stations)\n",
    "#plot(stations)"
   ]
  },
  {
   "cell_type": "code",
   "execution_count": 1,
   "id": "27b394ab-598f-4122-8217-d49a8bdabed3",
   "metadata": {},
   "outputs": [
    {
     "name": "stderr",
     "output_type": "stream",
     "text": [
      "UsageError: Cell magic `%%R` not found.\n"
     ]
    }
   ],
   "source": [
    "%%R\n",
    "stations.grid <- makegrid(stations, cellsize = 5000) # cell size in map projection units\n",
    "stations.grid <- as_Spatial(st_as_sf(stations.grid, coords = c(\"x1\", \"x2\"), crs = 6933, agr = \"constant\"))\n",
    "#plot(stations.grid)"
   ]
  },
  {
   "cell_type": "code",
   "execution_count": null,
   "id": "66b8cc95-5d0d-4d6e-8233-e24102c7503d",
   "metadata": {
    "jupyter": {
     "source_hidden": true
    },
    "tags": []
   },
   "outputs": [],
   "source": [
    "%%R\n",
    "for (i in 1:numFiles) {\n",
    "  infile <- paste0(dirname, station_list$GHCND[i], \".dly\")\n",
    "  outfile <- paste0(noaaout, station_list$GHCND[i], \".csv\")\n",
    "  cols <- c( \"A11\", \"I4\", \"I2\", \"A4\",\n",
    "             rep( c( \"I5\", \"A1\", \"A1\", \"A1\"), 31) )\n",
    "  df <- read.fortran(infile, cols, na.strings=\"-9999\") # -9999 indicates missing data\n",
    "  \n",
    "  # next, fill in the column names\n",
    "  tmp <- c(\"Val\",\"xxM\",\"xxQ\",\"xxS\") # xx so we can ditch them later\n",
    "  vhdrs <- paste(   rep(tmp,31),   rep(1:31,each=4), sep=\"\")\n",
    "  hdrs <- c(\"ID\", \"year\", \"month\", \"element\", vhdrs)\n",
    "  names(df) <- hdrs\n",
    "  df <- df[df$year >= 1995 & df$year <= 2020,]\n",
    "  df_out <- dplyr::select(df, -matches(\"xx*\")) # get rid of M, Q, S \n",
    "  write.csv(df_out, outfile)\n",
    "}"
   ]
  }
 ],
 "metadata": {
  "kernelspec": {
   "display_name": "info615",
   "language": "python",
   "name": "info615"
  },
  "language_info": {
   "codemirror_mode": {
    "name": "ipython",
    "version": 3
   },
   "file_extension": ".py",
   "mimetype": "text/x-python",
   "name": "python",
   "nbconvert_exporter": "python",
   "pygments_lexer": "ipython3",
   "version": "3.8.12"
  }
 },
 "nbformat": 4,
 "nbformat_minor": 5
}
