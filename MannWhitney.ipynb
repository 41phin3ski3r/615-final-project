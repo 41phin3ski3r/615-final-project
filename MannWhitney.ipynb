{
 "cells": [
  {
   "cell_type": "code",
   "execution_count": 7,
   "id": "4e2826e1-ffbe-480a-ad6d-56f079970cd1",
   "metadata": {},
   "outputs": [],
   "source": [
    "import geopandas as gpd\n",
    "import pandas as pd\n",
    "import contextily as cx\n",
    "import numpy as np\n",
    "from pointpats import centrography\n",
    "from shapely.geometry import Point\n",
    "import matplotlib.pyplot as plt\n",
    "from scipy import stats\n",
    "import shapely as shapely\n",
    "import seaborn as sns"
   ]
  },
  {
   "cell_type": "code",
   "execution_count": null,
   "id": "47b31dde-4b7e-4806-afb3-3149809e1c50",
   "metadata": {},
   "outputs": [],
   "source": [
    "%%R\n",
    "library(readr)\n",
    "library(data.table)\n",
    "library(tidyverse)\n",
    "library(dplyr)\n",
    "library(sp)\n",
    "library(sf)"
   ]
  },
  {
   "cell_type": "code",
   "execution_count": null,
   "id": "ac75a11d-b74d-48a6-9d88-c80bcc3549de",
   "metadata": {},
   "outputs": [],
   "source": [
    "%load_ext rpy2.ipython"
   ]
  },
  {
   "cell_type": "code",
   "execution_count": null,
   "id": "3c5dbebc-9673-4b34-8f59-7c4f3c962f64",
   "metadata": {
    "tags": []
   },
   "outputs": [],
   "source": [
    "%%R\n",
    "stations_full <- read_sf(\"stations_full.geojson\")\n",
    "\n",
    "stations_UTID <- stations_full %>% filter(grepl(\"US1ID|US1UT\", ID))\n",
    "\n",
    "stations_WYCO <- stations_full %>% filter(grepl(\"US1CO|US1WY\", ID))\n",
    "\n",
    "st_write(stations_UTID, \"stations_UTID.geojson\")\n",
    "st_write(stations_WYCO, \"stations_WYCO.geojson\")"
   ]
  },
  {
   "cell_type": "code",
   "execution_count": 2,
   "id": "572e7c78-f5e4-4f97-9b0b-4211faf84386",
   "metadata": {},
   "outputs": [],
   "source": [
    "stations_full = gpd.read_file(r\"C:\\Users\\p7j5p\\Documents\\Paul's reports\\spatial statistics\\indv files\\stations_full.geojson\")"
   ]
  },
  {
   "cell_type": "code",
   "execution_count": 3,
   "id": "8c9c609a-ecff-445b-ab03-616fc9836cf5",
   "metadata": {},
   "outputs": [
    {
     "data": {
      "text/html": [
       "<div>\n",
       "<style scoped>\n",
       "    .dataframe tbody tr th:only-of-type {\n",
       "        vertical-align: middle;\n",
       "    }\n",
       "\n",
       "    .dataframe tbody tr th {\n",
       "        vertical-align: top;\n",
       "    }\n",
       "\n",
       "    .dataframe thead th {\n",
       "        text-align: right;\n",
       "    }\n",
       "</style>\n",
       "<table border=\"1\" class=\"dataframe\">\n",
       "  <thead>\n",
       "    <tr style=\"text-align: right;\">\n",
       "      <th></th>\n",
       "      <th>ID</th>\n",
       "      <th>year</th>\n",
       "      <th>month</th>\n",
       "      <th>element</th>\n",
       "      <th>Date</th>\n",
       "      <th>Amt (mm)</th>\n",
       "      <th>Lat</th>\n",
       "      <th>Long</th>\n",
       "      <th>geometry</th>\n",
       "    </tr>\n",
       "  </thead>\n",
       "  <tbody>\n",
       "    <tr>\n",
       "      <th>0</th>\n",
       "      <td>US1COAD0001</td>\n",
       "      <td>2002</td>\n",
       "      <td>1</td>\n",
       "      <td>SNOW</td>\n",
       "      <td>Val1</td>\n",
       "      <td>13.0</td>\n",
       "      <td>39.946</td>\n",
       "      <td>-104.6088</td>\n",
       "      <td>POINT (-10093313.994 4701775.544)</td>\n",
       "    </tr>\n",
       "    <tr>\n",
       "      <th>1</th>\n",
       "      <td>US1COAD0001</td>\n",
       "      <td>2002</td>\n",
       "      <td>1</td>\n",
       "      <td>SNOW</td>\n",
       "      <td>Val10</td>\n",
       "      <td>104.0</td>\n",
       "      <td>39.946</td>\n",
       "      <td>-104.6088</td>\n",
       "      <td>POINT (-10093313.994 4701775.544)</td>\n",
       "    </tr>\n",
       "    <tr>\n",
       "      <th>2</th>\n",
       "      <td>US1COAD0001</td>\n",
       "      <td>2002</td>\n",
       "      <td>2</td>\n",
       "      <td>SNOW</td>\n",
       "      <td>Val25</td>\n",
       "      <td>38.0</td>\n",
       "      <td>39.946</td>\n",
       "      <td>-104.6088</td>\n",
       "      <td>POINT (-10093313.994 4701775.544)</td>\n",
       "    </tr>\n",
       "    <tr>\n",
       "      <th>3</th>\n",
       "      <td>US1COAD0001</td>\n",
       "      <td>2002</td>\n",
       "      <td>2</td>\n",
       "      <td>SNOW</td>\n",
       "      <td>Val26</td>\n",
       "      <td>13.0</td>\n",
       "      <td>39.946</td>\n",
       "      <td>-104.6088</td>\n",
       "      <td>POINT (-10093313.994 4701775.544)</td>\n",
       "    </tr>\n",
       "    <tr>\n",
       "      <th>4</th>\n",
       "      <td>US1COAD0001</td>\n",
       "      <td>2002</td>\n",
       "      <td>3</td>\n",
       "      <td>SNOW</td>\n",
       "      <td>Val1</td>\n",
       "      <td>89.0</td>\n",
       "      <td>39.946</td>\n",
       "      <td>-104.6088</td>\n",
       "      <td>POINT (-10093313.994 4701775.544)</td>\n",
       "    </tr>\n",
       "    <tr>\n",
       "      <th>...</th>\n",
       "      <td>...</td>\n",
       "      <td>...</td>\n",
       "      <td>...</td>\n",
       "      <td>...</td>\n",
       "      <td>...</td>\n",
       "      <td>...</td>\n",
       "      <td>...</td>\n",
       "      <td>...</td>\n",
       "      <td>...</td>\n",
       "    </tr>\n",
       "    <tr>\n",
       "      <th>267821</th>\n",
       "      <td>US1WYWS0029</td>\n",
       "      <td>2020</td>\n",
       "      <td>3</td>\n",
       "      <td>SNOW</td>\n",
       "      <td>Val28</td>\n",
       "      <td>13.0</td>\n",
       "      <td>43.7019</td>\n",
       "      <td>-104.6947</td>\n",
       "      <td>POINT (-10101602.165 5060908.463)</td>\n",
       "    </tr>\n",
       "    <tr>\n",
       "      <th>267822</th>\n",
       "      <td>US1WYWS0029</td>\n",
       "      <td>2020</td>\n",
       "      <td>4</td>\n",
       "      <td>SNOW</td>\n",
       "      <td>Val2</td>\n",
       "      <td>64.0</td>\n",
       "      <td>43.7019</td>\n",
       "      <td>-104.6947</td>\n",
       "      <td>POINT (-10101602.165 5060908.463)</td>\n",
       "    </tr>\n",
       "    <tr>\n",
       "      <th>267823</th>\n",
       "      <td>US1WYWS0029</td>\n",
       "      <td>2020</td>\n",
       "      <td>4</td>\n",
       "      <td>SNOW</td>\n",
       "      <td>Val12</td>\n",
       "      <td>64.0</td>\n",
       "      <td>43.7019</td>\n",
       "      <td>-104.6947</td>\n",
       "      <td>POINT (-10101602.165 5060908.463)</td>\n",
       "    </tr>\n",
       "    <tr>\n",
       "      <th>267824</th>\n",
       "      <td>US1WYWS0030</td>\n",
       "      <td>2018</td>\n",
       "      <td>1</td>\n",
       "      <td>SNOW</td>\n",
       "      <td>Val14</td>\n",
       "      <td>71.0</td>\n",
       "      <td>44.1263</td>\n",
       "      <td>-104.3947</td>\n",
       "      <td>POINT (-10072656.281 5100163.709)</td>\n",
       "    </tr>\n",
       "    <tr>\n",
       "      <th>267825</th>\n",
       "      <td>US1WYWS0030</td>\n",
       "      <td>2020</td>\n",
       "      <td>4</td>\n",
       "      <td>SNOW</td>\n",
       "      <td>Val2</td>\n",
       "      <td>305.0</td>\n",
       "      <td>44.1263</td>\n",
       "      <td>-104.3947</td>\n",
       "      <td>POINT (-10072656.281 5100163.709)</td>\n",
       "    </tr>\n",
       "  </tbody>\n",
       "</table>\n",
       "<p>267826 rows × 9 columns</p>\n",
       "</div>"
      ],
      "text/plain": [
       "                 ID  year month element   Date  Amt (mm)      Lat       Long  \\\n",
       "0       US1COAD0001  2002     1    SNOW   Val1      13.0   39.946  -104.6088   \n",
       "1       US1COAD0001  2002     1    SNOW  Val10     104.0   39.946  -104.6088   \n",
       "2       US1COAD0001  2002     2    SNOW  Val25      38.0   39.946  -104.6088   \n",
       "3       US1COAD0001  2002     2    SNOW  Val26      13.0   39.946  -104.6088   \n",
       "4       US1COAD0001  2002     3    SNOW   Val1      89.0   39.946  -104.6088   \n",
       "...             ...   ...   ...     ...    ...       ...      ...        ...   \n",
       "267821  US1WYWS0029  2020     3    SNOW  Val28      13.0  43.7019  -104.6947   \n",
       "267822  US1WYWS0029  2020     4    SNOW   Val2      64.0  43.7019  -104.6947   \n",
       "267823  US1WYWS0029  2020     4    SNOW  Val12      64.0  43.7019  -104.6947   \n",
       "267824  US1WYWS0030  2018     1    SNOW  Val14      71.0  44.1263  -104.3947   \n",
       "267825  US1WYWS0030  2020     4    SNOW   Val2     305.0  44.1263  -104.3947   \n",
       "\n",
       "                                 geometry  \n",
       "0       POINT (-10093313.994 4701775.544)  \n",
       "1       POINT (-10093313.994 4701775.544)  \n",
       "2       POINT (-10093313.994 4701775.544)  \n",
       "3       POINT (-10093313.994 4701775.544)  \n",
       "4       POINT (-10093313.994 4701775.544)  \n",
       "...                                   ...  \n",
       "267821  POINT (-10101602.165 5060908.463)  \n",
       "267822  POINT (-10101602.165 5060908.463)  \n",
       "267823  POINT (-10101602.165 5060908.463)  \n",
       "267824  POINT (-10072656.281 5100163.709)  \n",
       "267825  POINT (-10072656.281 5100163.709)  \n",
       "\n",
       "[267826 rows x 9 columns]"
      ]
     },
     "execution_count": 3,
     "metadata": {},
     "output_type": "execute_result"
    }
   ],
   "source": [
    "stations_full"
   ]
  },
  {
   "cell_type": "code",
   "execution_count": 5,
   "id": "c5785e53-4a72-4dac-bda1-18444ae8a304",
   "metadata": {},
   "outputs": [
    {
     "name": "stdout",
     "output_type": "stream",
     "text": [
      "epsg:6933\n"
     ]
    }
   ],
   "source": [
    "print(stations_full.crs)"
   ]
  },
  {
   "cell_type": "code",
   "execution_count": 12,
   "id": "5c2bcdbf-03af-4319-8e17-b3761cc85ca6",
   "metadata": {},
   "outputs": [],
   "source": [
    "stations_UTID = gpd.read_file(r\"C:\\Users\\p7j5p\\Documents\\Paul's reports\\spatial statistics\\indv files\\stations_UTID.geojson\")\n",
    "stations_WYCO = gpd.read_file(r\"C:\\Users\\p7j5p\\Documents\\Paul's reports\\spatial statistics\\indv files\\stations_WYCO.geojson\")"
   ]
  },
  {
   "cell_type": "code",
   "execution_count": 31,
   "id": "02bc8005-9ca3-4d2a-bcb0-95d3b94b1f4a",
   "metadata": {},
   "outputs": [],
   "source": [
    "stations_UTID['month'] = pd.to_numeric(stations_UTID['month'], errors='coerce')\n",
    "stations_WYCO['month'] = pd.to_numeric(stations_WYCO['month'], errors='coerce')"
   ]
  },
  {
   "cell_type": "code",
   "execution_count": 26,
   "id": "bf414419-b9f3-44fd-9d66-4ea70968b277",
   "metadata": {},
   "outputs": [
    {
     "data": {
      "text/plain": [
       "ID            object\n",
       "year          object\n",
       "month          int64\n",
       "element       object\n",
       "Date          object\n",
       "Amt..mm.     float64\n",
       "Lat           object\n",
       "Long          object\n",
       "geometry    geometry\n",
       "dtype: object"
      ]
     },
     "execution_count": 26,
     "metadata": {},
     "output_type": "execute_result"
    }
   ],
   "source": [
    "stations_UTID.dtypes"
   ]
  },
  {
   "cell_type": "markdown",
   "id": "d2c88776-6c3f-4cd6-8c52-a3d51501b1a3",
   "metadata": {},
   "source": [
    "subsetting the data to test the hypothesis"
   ]
  },
  {
   "cell_type": "code",
   "execution_count": 32,
   "id": "8d8ba7f4-976d-4525-a8e2-3fd6af644207",
   "metadata": {},
   "outputs": [],
   "source": [
    "stations_UTID12 = stations_UTID.loc[(stations_UTID['month'] < 3)]\n",
    "stations_UTID34 = stations_UTID.loc[(stations_UTID['month'] > 2)]\n",
    "stations_WYCO12 = stations_WYCO.loc[(stations_WYCO['month'] < 3)]\n",
    "stations_WYCO34 = stations_WYCO.loc[(stations_WYCO['month'] > 2)]"
   ]
  },
  {
   "cell_type": "code",
   "execution_count": 30,
   "id": "8128d7cb-2910-4ea9-931f-086037878b4a",
   "metadata": {},
   "outputs": [
    {
     "data": {
      "text/html": [
       "<div>\n",
       "<style scoped>\n",
       "    .dataframe tbody tr th:only-of-type {\n",
       "        vertical-align: middle;\n",
       "    }\n",
       "\n",
       "    .dataframe tbody tr th {\n",
       "        vertical-align: top;\n",
       "    }\n",
       "\n",
       "    .dataframe thead th {\n",
       "        text-align: right;\n",
       "    }\n",
       "</style>\n",
       "<table border=\"1\" class=\"dataframe\">\n",
       "  <thead>\n",
       "    <tr style=\"text-align: right;\">\n",
       "      <th></th>\n",
       "      <th>ID</th>\n",
       "      <th>year</th>\n",
       "      <th>month</th>\n",
       "      <th>element</th>\n",
       "      <th>Date</th>\n",
       "      <th>Amt..mm.</th>\n",
       "      <th>Lat</th>\n",
       "      <th>Long</th>\n",
       "      <th>geometry</th>\n",
       "    </tr>\n",
       "  </thead>\n",
       "  <tbody>\n",
       "    <tr>\n",
       "      <th>9</th>\n",
       "      <td>US1IDAD0002</td>\n",
       "      <td>2009</td>\n",
       "      <td>3</td>\n",
       "      <td>SNOW</td>\n",
       "      <td>Val5</td>\n",
       "      <td>18.0</td>\n",
       "      <td>43.6695</td>\n",
       "      <td>-116.2653</td>\n",
       "      <td>POINT (-11218006.319 5057900.273)</td>\n",
       "    </tr>\n",
       "    <tr>\n",
       "      <th>10</th>\n",
       "      <td>US1IDAD0002</td>\n",
       "      <td>2009</td>\n",
       "      <td>3</td>\n",
       "      <td>SNOW</td>\n",
       "      <td>Val6</td>\n",
       "      <td>20.0</td>\n",
       "      <td>43.6695</td>\n",
       "      <td>-116.2653</td>\n",
       "      <td>POINT (-11218006.319 5057900.273)</td>\n",
       "    </tr>\n",
       "    <tr>\n",
       "      <th>11</th>\n",
       "      <td>US1IDAD0002</td>\n",
       "      <td>2009</td>\n",
       "      <td>3</td>\n",
       "      <td>SNOW</td>\n",
       "      <td>Val9</td>\n",
       "      <td>33.0</td>\n",
       "      <td>43.6695</td>\n",
       "      <td>-116.2653</td>\n",
       "      <td>POINT (-11218006.319 5057900.273)</td>\n",
       "    </tr>\n",
       "    <tr>\n",
       "      <th>14</th>\n",
       "      <td>US1IDAD0002</td>\n",
       "      <td>2010</td>\n",
       "      <td>3</td>\n",
       "      <td>SNOW</td>\n",
       "      <td>Val13</td>\n",
       "      <td>33.0</td>\n",
       "      <td>43.6695</td>\n",
       "      <td>-116.2653</td>\n",
       "      <td>POINT (-11218006.319 5057900.273)</td>\n",
       "    </tr>\n",
       "    <tr>\n",
       "      <th>21</th>\n",
       "      <td>US1IDAD0002</td>\n",
       "      <td>2011</td>\n",
       "      <td>3</td>\n",
       "      <td>SNOW</td>\n",
       "      <td>Val17</td>\n",
       "      <td>8.0</td>\n",
       "      <td>43.6695</td>\n",
       "      <td>-116.2653</td>\n",
       "      <td>POINT (-11218006.319 5057900.273)</td>\n",
       "    </tr>\n",
       "    <tr>\n",
       "      <th>...</th>\n",
       "      <td>...</td>\n",
       "      <td>...</td>\n",
       "      <td>...</td>\n",
       "      <td>...</td>\n",
       "      <td>...</td>\n",
       "      <td>...</td>\n",
       "      <td>...</td>\n",
       "      <td>...</td>\n",
       "      <td>...</td>\n",
       "    </tr>\n",
       "    <tr>\n",
       "      <th>19344</th>\n",
       "      <td>US1UTWY0001</td>\n",
       "      <td>2009</td>\n",
       "      <td>3</td>\n",
       "      <td>SNOW</td>\n",
       "      <td>Val10</td>\n",
       "      <td>25.0</td>\n",
       "      <td>38.3943</td>\n",
       "      <td>-111.5911</td>\n",
       "      <td>POINT (-10767010.148 4547487.624)</td>\n",
       "    </tr>\n",
       "    <tr>\n",
       "      <th>19345</th>\n",
       "      <td>US1UTWY0001</td>\n",
       "      <td>2009</td>\n",
       "      <td>4</td>\n",
       "      <td>SNOW</td>\n",
       "      <td>Val4</td>\n",
       "      <td>76.0</td>\n",
       "      <td>38.3943</td>\n",
       "      <td>-111.5911</td>\n",
       "      <td>POINT (-10767010.148 4547487.624)</td>\n",
       "    </tr>\n",
       "    <tr>\n",
       "      <th>19346</th>\n",
       "      <td>US1UTWY0001</td>\n",
       "      <td>2009</td>\n",
       "      <td>4</td>\n",
       "      <td>SNOW</td>\n",
       "      <td>Val11</td>\n",
       "      <td>25.0</td>\n",
       "      <td>38.3943</td>\n",
       "      <td>-111.5911</td>\n",
       "      <td>POINT (-10767010.148 4547487.624)</td>\n",
       "    </tr>\n",
       "    <tr>\n",
       "      <th>19354</th>\n",
       "      <td>US1UTWY0001</td>\n",
       "      <td>2010</td>\n",
       "      <td>3</td>\n",
       "      <td>SNOW</td>\n",
       "      <td>Val7</td>\n",
       "      <td>89.0</td>\n",
       "      <td>38.3943</td>\n",
       "      <td>-111.5911</td>\n",
       "      <td>POINT (-10767010.148 4547487.624)</td>\n",
       "    </tr>\n",
       "    <tr>\n",
       "      <th>19355</th>\n",
       "      <td>US1UTWY0001</td>\n",
       "      <td>2010</td>\n",
       "      <td>3</td>\n",
       "      <td>SNOW</td>\n",
       "      <td>Val8</td>\n",
       "      <td>5.0</td>\n",
       "      <td>38.3943</td>\n",
       "      <td>-111.5911</td>\n",
       "      <td>POINT (-10767010.148 4547487.624)</td>\n",
       "    </tr>\n",
       "  </tbody>\n",
       "</table>\n",
       "<p>5525 rows × 9 columns</p>\n",
       "</div>"
      ],
      "text/plain": [
       "                ID  year  month element   Date  Amt..mm.      Lat       Long  \\\n",
       "9      US1IDAD0002  2009      3    SNOW   Val5      18.0  43.6695  -116.2653   \n",
       "10     US1IDAD0002  2009      3    SNOW   Val6      20.0  43.6695  -116.2653   \n",
       "11     US1IDAD0002  2009      3    SNOW   Val9      33.0  43.6695  -116.2653   \n",
       "14     US1IDAD0002  2010      3    SNOW  Val13      33.0  43.6695  -116.2653   \n",
       "21     US1IDAD0002  2011      3    SNOW  Val17       8.0  43.6695  -116.2653   \n",
       "...            ...   ...    ...     ...    ...       ...      ...        ...   \n",
       "19344  US1UTWY0001  2009      3    SNOW  Val10      25.0  38.3943  -111.5911   \n",
       "19345  US1UTWY0001  2009      4    SNOW   Val4      76.0  38.3943  -111.5911   \n",
       "19346  US1UTWY0001  2009      4    SNOW  Val11      25.0  38.3943  -111.5911   \n",
       "19354  US1UTWY0001  2010      3    SNOW   Val7      89.0  38.3943  -111.5911   \n",
       "19355  US1UTWY0001  2010      3    SNOW   Val8       5.0  38.3943  -111.5911   \n",
       "\n",
       "                                geometry  \n",
       "9      POINT (-11218006.319 5057900.273)  \n",
       "10     POINT (-11218006.319 5057900.273)  \n",
       "11     POINT (-11218006.319 5057900.273)  \n",
       "14     POINT (-11218006.319 5057900.273)  \n",
       "21     POINT (-11218006.319 5057900.273)  \n",
       "...                                  ...  \n",
       "19344  POINT (-10767010.148 4547487.624)  \n",
       "19345  POINT (-10767010.148 4547487.624)  \n",
       "19346  POINT (-10767010.148 4547487.624)  \n",
       "19354  POINT (-10767010.148 4547487.624)  \n",
       "19355  POINT (-10767010.148 4547487.624)  \n",
       "\n",
       "[5525 rows x 9 columns]"
      ]
     },
     "execution_count": 30,
     "metadata": {},
     "output_type": "execute_result"
    }
   ],
   "source": [
    "stations_UTID34"
   ]
  },
  {
   "cell_type": "code",
   "execution_count": 16,
   "id": "a60b08c6-e507-41df-ac75-34f0abccaf66",
   "metadata": {},
   "outputs": [],
   "source": [
    "from scipy import stats"
   ]
  },
  {
   "cell_type": "code",
   "execution_count": 34,
   "id": "67fb87e6-b787-49b6-a39d-18a78aef0989",
   "metadata": {},
   "outputs": [],
   "source": [
    "UTID12 = stations_UTID12['Amt..mm.'].values\n",
    "UTID34 = stations_UTID34['Amt..mm.'].values\n",
    "WYCO12 = stations_WYCO12['Amt..mm.'].values\n",
    "WYCO34 = stations_WYCO34['Amt..mm.'].values"
   ]
  },
  {
   "cell_type": "code",
   "execution_count": 37,
   "id": "de6982e2-5ff0-4cce-8813-9ee280629ea6",
   "metadata": {},
   "outputs": [
    {
     "data": {
      "text/plain": [
       "MannwhitneyuResult(statistic=992193232.0, pvalue=0.3422076652274443)"
      ]
     },
     "execution_count": 37,
     "metadata": {},
     "output_type": "execute_result"
    }
   ],
   "source": [
    "stats.mannwhitneyu(UTID12, WYCO12, alternative='greater')"
   ]
  },
  {
   "cell_type": "markdown",
   "id": "07efa7d5-86ec-4b84-a2ad-bb1eddce8c88",
   "metadata": {},
   "source": [
    "fail to reject null"
   ]
  },
  {
   "cell_type": "code",
   "execution_count": 36,
   "id": "5f38ba76-a323-4f7d-8272-45698db50791",
   "metadata": {},
   "outputs": [
    {
     "data": {
      "text/plain": [
       "MannwhitneyuResult(statistic=322724868.5, pvalue=2.4445271794549023e-43)"
      ]
     },
     "execution_count": 36,
     "metadata": {},
     "output_type": "execute_result"
    }
   ],
   "source": [
    "stats.mannwhitneyu(WYCO34, UTID34, alternative='greater')"
   ]
  },
  {
   "cell_type": "markdown",
   "id": "062dc532-5427-401b-a930-5fb4ca30c02e",
   "metadata": {},
   "source": [
    "yayy significant at the highest level, reject null"
   ]
  },
  {
   "cell_type": "code",
   "execution_count": 38,
   "id": "50a113ab-f18f-42ec-b356-47a50288eda4",
   "metadata": {},
   "outputs": [
    {
     "data": {
      "text/plain": [
       "MannwhitneyuResult(statistic=992193232.0, pvalue=0.6844153304548886)"
      ]
     },
     "execution_count": 38,
     "metadata": {},
     "output_type": "execute_result"
    }
   ],
   "source": [
    "stats.mannwhitneyu(UTID12, WYCO12)"
   ]
  }
 ],
 "metadata": {
  "kernelspec": {
   "display_name": "info615",
   "language": "python",
   "name": "info615"
  },
  "language_info": {
   "codemirror_mode": {
    "name": "ipython",
    "version": 3
   },
   "file_extension": ".py",
   "mimetype": "text/x-python",
   "name": "python",
   "nbconvert_exporter": "python",
   "pygments_lexer": "ipython3",
   "version": "3.8.12"
  }
 },
 "nbformat": 4,
 "nbformat_minor": 5
}
